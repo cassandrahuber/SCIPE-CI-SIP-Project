{
 "cells": [
  {
   "cell_type": "code",
   "execution_count": 13,
   "id": "17433b2b-dfa7-4d62-a8a2-c460e7c034c3",
   "metadata": {},
   "outputs": [],
   "source": [
    "import pandas as pd"
   ]
  },
  {
   "cell_type": "code",
   "execution_count": 15,
   "id": "a4e6418c-00ec-4172-bcad-8230b5404204",
   "metadata": {},
   "outputs": [],
   "source": [
    "import os, sys\n",
    "src_path = os.path.abspath(os.path.join('..', 'src'))\n",
    "sys.path.insert(0, src_path)\n",
    "from clean_data import clean_aqi_quality_data"
   ]
  },
  {
   "cell_type": "code",
   "execution_count": 11,
   "id": "f25643b5-6043-4731-96d0-ca16e4e994cb",
   "metadata": {},
   "outputs": [
    {
     "name": "stdout",
     "output_type": "stream",
     "text": [
      "        State      County  Year  Days with AQI  Good Days  Moderate Days  \\\n",
      "0     Alabama     Baldwin  2017            270        224             45   \n",
      "1     Alabama        Clay  2017            118         76             42   \n",
      "2     Alabama     Colbert  2017            283        244             39   \n",
      "3     Alabama      DeKalb  2017            359        305             54   \n",
      "4     Alabama      Elmore  2017            226        221              5   \n",
      "...       ...         ...   ...            ...        ...            ...   \n",
      "1024  Wyoming    Sublette  2017            365        220            137   \n",
      "1025  Wyoming  Sweetwater  2017            365        259            101   \n",
      "1026  Wyoming       Teton  2017            365        289             75   \n",
      "1027  Wyoming       Uinta  2017            365        310             53   \n",
      "1028  Wyoming      Weston  2017            289        257             32   \n",
      "\n",
      "      Unhealthy for Sensitive Groups Days  Unhealthy Days  \\\n",
      "0                                       1               0   \n",
      "1                                       0               0   \n",
      "2                                       0               0   \n",
      "3                                       0               0   \n",
      "4                                       0               0   \n",
      "...                                   ...             ...   \n",
      "1024                                    8               0   \n",
      "1025                                    2               2   \n",
      "1026                                    1               0   \n",
      "1027                                    1               0   \n",
      "1028                                    0               0   \n",
      "\n",
      "      Very Unhealthy Days  Hazardous Days  Max AQI  90th Percentile AQI  \\\n",
      "0                       0               0      108                   56   \n",
      "1                       0               0       69                   57   \n",
      "2                       0               0       67                   53   \n",
      "3                       0               0       80                   54   \n",
      "4                       0               0       58                   45   \n",
      "...                   ...             ...      ...                  ...   \n",
      "1024                    0               0      150                   74   \n",
      "1025                    1               0      264                   67   \n",
      "1026                    0               0      118                   61   \n",
      "1027                    0               1      718                   54   \n",
      "1028                    0               0       93                   51   \n",
      "\n",
      "      Median AQI  Days CO  Days NO2  Days Ozone  Days PM2.5  Days PM10  \n",
      "0             39        0         0         188          82          0  \n",
      "1             40        0         0           0         118          0  \n",
      "2             39        0         0         202          81          0  \n",
      "3             40        0         0         290          69          0  \n",
      "4             35        0         0         226           0          0  \n",
      "...          ...      ...       ...         ...         ...        ...  \n",
      "1024          48        0         0         333          32          0  \n",
      "1025          46        0         1         317          11         36  \n",
      "1026          44        0         0         332          33          0  \n",
      "1027          44        0         3         348           0         14  \n",
      "1028          41        0         0         289           0          0  \n",
      "\n",
      "[1029 rows x 18 columns]\n"
     ]
    }
   ],
   "source": [
    "print(pd.read_csv('../raw_data/annual_aqi_by_county_2017.csv'))"
   ]
  },
  {
   "cell_type": "code",
   "execution_count": null,
   "id": "14606707-57f8-416e-b79a-90d210003d31",
   "metadata": {},
   "outputs": [],
   "source": []
  }
 ],
 "metadata": {
  "kernelspec": {
   "display_name": "Python 3 (ipykernel)",
   "language": "python",
   "name": "python3"
  },
  "language_info": {
   "codemirror_mode": {
    "name": "ipython",
    "version": 3
   },
   "file_extension": ".py",
   "mimetype": "text/x-python",
   "name": "python",
   "nbconvert_exporter": "python",
   "pygments_lexer": "ipython3",
   "version": "3.9.23"
  }
 },
 "nbformat": 4,
 "nbformat_minor": 5
}
