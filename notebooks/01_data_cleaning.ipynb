{
 "cells": [
  {
   "cell_type": "code",
   "execution_count": 5,
   "id": "17433b2b-dfa7-4d62-a8a2-c460e7c034c3",
   "metadata": {},
   "outputs": [],
   "source": [
    "import pandas as pd"
   ]
  },
  {
   "cell_type": "code",
   "execution_count": 6,
   "id": "a4e6418c-00ec-4172-bcad-8230b5404204",
   "metadata": {},
   "outputs": [],
   "source": [
    "import os, sys\n",
    "src_path = os.path.abspath(os.path.join('..', 'src'))\n",
    "sys.path.insert(0, src_path)\n",
    "from clean_data import clean_aqi_quality_data, clean_asthma_ed_visits_data, merge_cleaned_data"
   ]
  },
  {
   "cell_type": "code",
   "execution_count": 7,
   "id": "14606707-57f8-416e-b79a-90d210003d31",
   "metadata": {},
   "outputs": [],
   "source": [
    "clean_aqi = clean_aqi_quality_data(2017, 5, '../raw_data')\n",
    "clean_asthma = clean_asthma_ed_visits_data(2017, 5, '../raw_data')\n",
    "clean_aqi.to_csv('../processed_data/cleaned_aqi.csv')\n",
    "clean_asthma.to_csv('../processed_data/cleaned_asthma.csv')\n",
    "\n",
    "#find_missing_data(clean_aqi, clean_asthma, all_counties)\n",
    "\n",
    "merged_data, merged_data_timeframe = merge_cleaned_data(clean_aqi, clean_asthma)\n",
    "merged_data.to_csv('../processed_data/merged_data_' + merged_data_timeframe + '.csv')\n",
    "    "
   ]
  },
  {
   "cell_type": "code",
   "execution_count": null,
   "id": "cd2f2e7e-e0bf-4d12-9c4e-7a0c7d72eb53",
   "metadata": {},
   "outputs": [],
   "source": [
    "print(clean_aqi)"
   ]
  },
  {
   "cell_type": "code",
   "execution_count": null,
   "id": "8dfa81b1-0849-4ef8-9862-b07cc4dbb9ee",
   "metadata": {},
   "outputs": [],
   "source": [
    "print(clean_asthma)"
   ]
  },
  {
   "cell_type": "code",
   "execution_count": null,
   "id": "d0237968-2d4f-41a5-a470-badf0ece802f",
   "metadata": {},
   "outputs": [],
   "source": [
    "print(merged_data)"
   ]
  },
  {
   "cell_type": "code",
   "execution_count": null,
   "id": "775a4cc8-87b0-4705-97cd-a0f3bd3ae237",
   "metadata": {},
   "outputs": [],
   "source": []
  }
 ],
 "metadata": {
  "kernelspec": {
   "display_name": "Python 3 (ipykernel)",
   "language": "python",
   "name": "python3"
  },
  "language_info": {
   "codemirror_mode": {
    "name": "ipython",
    "version": 3
   },
   "file_extension": ".py",
   "mimetype": "text/x-python",
   "name": "python",
   "nbconvert_exporter": "python",
   "pygments_lexer": "ipython3",
   "version": "3.9.23"
  }
 },
 "nbformat": 4,
 "nbformat_minor": 5
}
