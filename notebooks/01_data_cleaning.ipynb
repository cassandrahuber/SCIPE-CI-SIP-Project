{
 "cells": [
  {
   "cell_type": "code",
   "execution_count": 2,
   "id": "17433b2b-dfa7-4d62-a8a2-c460e7c034c3",
   "metadata": {},
   "outputs": [],
   "source": [
    "import pandas as pd"
   ]
  },
  {
   "cell_type": "code",
   "execution_count": null,
   "id": "a4e6418c-00ec-4172-bcad-8230b5404204",
   "metadata": {},
   "outputs": [],
   "source": [
    "import os, sys\n",
    "src_path = os.path.abspath(os.path.join('..', 'src'))\n",
    "sys.path.insert(0, src_path)\n",
    "from clean_data import clean_aqi_quality_data, clean_asthma_ed_visits_data, merge_cleaned_data"
   ]
  },
  {
   "cell_type": "code",
   "execution_count": 3,
   "id": "f25643b5-6043-4731-96d0-ca16e4e994cb",
   "metadata": {},
   "outputs": [
    {
     "name": "stdout",
     "output_type": "stream",
     "text": [
      "        State      County  Year  Days with AQI  Good Days  Moderate Days  \\\n",
      "0     Alabama     Baldwin  2017            270        224             45   \n",
      "1     Alabama        Clay  2017            118         76             42   \n",
      "2     Alabama     Colbert  2017            283        244             39   \n",
      "3     Alabama      DeKalb  2017            359        305             54   \n",
      "4     Alabama      Elmore  2017            226        221              5   \n",
      "...       ...         ...   ...            ...        ...            ...   \n",
      "1024  Wyoming    Sublette  2017            365        220            137   \n",
      "1025  Wyoming  Sweetwater  2017            365        259            101   \n",
      "1026  Wyoming       Teton  2017            365        289             75   \n",
      "1027  Wyoming       Uinta  2017            365        310             53   \n",
      "1028  Wyoming      Weston  2017            289        257             32   \n",
      "\n",
      "      Unhealthy for Sensitive Groups Days  Unhealthy Days  \\\n",
      "0                                       1               0   \n",
      "1                                       0               0   \n",
      "2                                       0               0   \n",
      "3                                       0               0   \n",
      "4                                       0               0   \n",
      "...                                   ...             ...   \n",
      "1024                                    8               0   \n",
      "1025                                    2               2   \n",
      "1026                                    1               0   \n",
      "1027                                    1               0   \n",
      "1028                                    0               0   \n",
      "\n",
      "      Very Unhealthy Days  Hazardous Days  Max AQI  90th Percentile AQI  \\\n",
      "0                       0               0      108                   56   \n",
      "1                       0               0       69                   57   \n",
      "2                       0               0       67                   53   \n",
      "3                       0               0       80                   54   \n",
      "4                       0               0       58                   45   \n",
      "...                   ...             ...      ...                  ...   \n",
      "1024                    0               0      150                   74   \n",
      "1025                    1               0      264                   67   \n",
      "1026                    0               0      118                   61   \n",
      "1027                    0               1      718                   54   \n",
      "1028                    0               0       93                   51   \n",
      "\n",
      "      Median AQI  Days CO  Days NO2  Days Ozone  Days PM2.5  Days PM10  \n",
      "0             39        0         0         188          82          0  \n",
      "1             40        0         0           0         118          0  \n",
      "2             39        0         0         202          81          0  \n",
      "3             40        0         0         290          69          0  \n",
      "4             35        0         0         226           0          0  \n",
      "...          ...      ...       ...         ...         ...        ...  \n",
      "1024          48        0         0         333          32          0  \n",
      "1025          46        0         1         317          11         36  \n",
      "1026          44        0         0         332          33          0  \n",
      "1027          44        0         3         348           0         14  \n",
      "1028          41        0         0         289           0          0  \n",
      "\n",
      "[1029 rows x 18 columns]\n"
     ]
    }
   ],
   "source": [
    "print(pd.read_csv('../raw_data/annual_aqi_by_county_2017.csv'))"
   ]
  },
  {
   "cell_type": "code",
   "execution_count": 4,
   "id": "14606707-57f8-416e-b79a-90d210003d31",
   "metadata": {},
   "outputs": [],
   "source": [
    "clean_aqi = clean_aqi_quality_data(2017, 5, '../raw_data')\n",
    "clean_asthma = clean_asthma_ed_visits_data(2017, 5, '../raw_data')\n",
    "#clean_aqi.to_csv('processed_data/cleaned_aqi.csv')\n",
    "#clean_asthma.to_csv('processed_data/cleaned_asthma.csv')\n",
    "\n",
    "#find_missing_data(clean_aqi, clean_asthma, all_counties)\n",
    "\n",
    "merged_data, merged_data_timeframe = merge_cleaned_data(clean_aqi, clean_asthma)\n",
    "#merged_data.to_csv('processed_data/merged_data_' + merged_data_timeframe + '.csv')\n",
    "    "
   ]
  },
  {
   "cell_type": "code",
   "execution_count": 6,
   "id": "cd2f2e7e-e0bf-4d12-9c4e-7a0c7d72eb53",
   "metadata": {},
   "outputs": [
    {
     "name": "stdout",
     "output_type": "stream",
     "text": [
      "        county  year  days_with_aqi  good_days  moderate_days  \\\n",
      "0      Alameda  2017            365        106            245   \n",
      "1       Amador  2017            362        291             67   \n",
      "2        Butte  2017            365        100            241   \n",
      "3    Calaveras  2017            354        118            222   \n",
      "4       Colusa  2017            365        237            120   \n",
      "..         ...   ...            ...        ...            ...   \n",
      "260    Trinity  2021            328        201             81   \n",
      "261     Tulare  2021            365         49            182   \n",
      "262   Tuolumne  2021            360        295             63   \n",
      "263    Ventura  2021            365        157            198   \n",
      "264       Yolo  2021            365        242            117   \n",
      "\n",
      "     unhealthy_for_sensitive_groups_days  unhealthy_days  very_unhealthy_days  \\\n",
      "0                                      9               4                    1   \n",
      "1                                      4               0                    0   \n",
      "2                                     23               1                    0   \n",
      "3                                     12               2                    0   \n",
      "4                                      7               0                    1   \n",
      "..                                   ...             ...                  ...   \n",
      "260                                    4              19                    9   \n",
      "261                                   93              38                    2   \n",
      "262                                    2               0                    0   \n",
      "263                                   10               0                    0   \n",
      "264                                    4               2                    0   \n",
      "\n",
      "     hazardous_days  max_aqi  90th_percentile_aqi  median_aqi  days_co  \\\n",
      "0                 0      205                   78          56        0   \n",
      "1                 0      136                   64          38        0   \n",
      "2                 0      155                   95          59        0   \n",
      "3                 0      172                   87          57        0   \n",
      "4                 0      213                   67          43        0   \n",
      "..              ...      ...                  ...         ...      ...   \n",
      "260              14     1217                  168          38        0   \n",
      "261               1      961                  154          81        0   \n",
      "262               0      136                   61          41        0   \n",
      "263               0      122                   80          53        0   \n",
      "264               0      159                   68          42        0   \n",
      "\n",
      "     days_no2  days_ozone  days_pm2.5  days_pm10  \n",
      "0           6          51         308          0  \n",
      "1           0         362           0          0  \n",
      "2           0         150         213          2  \n",
      "3           0         198         155          1  \n",
      "4           0         168         179         18  \n",
      "..        ...         ...         ...        ...  \n",
      "260         0           0         328          0  \n",
      "261         0         173         187          5  \n",
      "262         0         360           0          0  \n",
      "263         0         214         140         11  \n",
      "264         0         215         149          1  \n",
      "\n",
      "[265 rows x 17 columns]\n"
     ]
    }
   ],
   "source": [
    "print(clean_aqi)"
   ]
  },
  {
   "cell_type": "code",
   "execution_count": 7,
   "id": "8dfa81b1-0849-4ef8-9862-b07cc4dbb9ee",
   "metadata": {},
   "outputs": [
    {
     "name": "stdout",
     "output_type": "stream",
     "text": [
      "        county  year  asthma_rate  number_of_cases\n",
      "0      Alameda  2017        56.04           8916.0\n",
      "1       Alpine  2017          NaN              NaN\n",
      "2       Amador  2017        56.02            175.0\n",
      "3        Butte  2017        45.29            935.0\n",
      "4    Calaveras  2017        54.51            197.0\n",
      "..         ...   ...          ...              ...\n",
      "285     Tulare  2021        26.95           1280.0\n",
      "286   Tuolumne  2021        23.59            104.0\n",
      "287    Ventura  2021        16.81           1312.0\n",
      "288       Yolo  2021        22.87            436.0\n",
      "289       Yuba  2021        29.34            235.0\n",
      "\n",
      "[290 rows x 4 columns]\n"
     ]
    }
   ],
   "source": [
    "print(clean_asthma)"
   ]
  },
  {
   "cell_type": "code",
   "execution_count": 8,
   "id": "d0237968-2d4f-41a5-a470-badf0ece802f",
   "metadata": {},
   "outputs": [
    {
     "name": "stdout",
     "output_type": "stream",
     "text": [
      "        county  year  days_with_aqi  good_days  moderate_days  \\\n",
      "0      Alameda  2017            365        106            245   \n",
      "1       Amador  2017            362        291             67   \n",
      "2        Butte  2017            365        100            241   \n",
      "3    Calaveras  2017            354        118            222   \n",
      "4       Colusa  2017            365        237            120   \n",
      "..         ...   ...            ...        ...            ...   \n",
      "260    Trinity  2021            328        201             81   \n",
      "261     Tulare  2021            365         49            182   \n",
      "262   Tuolumne  2021            360        295             63   \n",
      "263    Ventura  2021            365        157            198   \n",
      "264       Yolo  2021            365        242            117   \n",
      "\n",
      "     unhealthy_for_sensitive_groups_days  unhealthy_days  very_unhealthy_days  \\\n",
      "0                                      9               4                    1   \n",
      "1                                      4               0                    0   \n",
      "2                                     23               1                    0   \n",
      "3                                     12               2                    0   \n",
      "4                                      7               0                    1   \n",
      "..                                   ...             ...                  ...   \n",
      "260                                    4              19                    9   \n",
      "261                                   93              38                    2   \n",
      "262                                    2               0                    0   \n",
      "263                                   10               0                    0   \n",
      "264                                    4               2                    0   \n",
      "\n",
      "     hazardous_days  max_aqi  90th_percentile_aqi  median_aqi  days_co  \\\n",
      "0                 0      205                   78          56        0   \n",
      "1                 0      136                   64          38        0   \n",
      "2                 0      155                   95          59        0   \n",
      "3                 0      172                   87          57        0   \n",
      "4                 0      213                   67          43        0   \n",
      "..              ...      ...                  ...         ...      ...   \n",
      "260              14     1217                  168          38        0   \n",
      "261               1      961                  154          81        0   \n",
      "262               0      136                   61          41        0   \n",
      "263               0      122                   80          53        0   \n",
      "264               0      159                   68          42        0   \n",
      "\n",
      "     days_no2  days_ozone  days_pm2.5  days_pm10  asthma_rate  number_of_cases  \n",
      "0           6          51         308          0        56.04           8916.0  \n",
      "1           0         362           0          0        56.02            175.0  \n",
      "2           0         150         213          2        45.29            935.0  \n",
      "3           0         198         155          1        54.51            197.0  \n",
      "4           0         168         179         18        28.28             62.0  \n",
      "..        ...         ...         ...        ...          ...              ...  \n",
      "260         0           0         328          0        26.72             33.0  \n",
      "261         0         173         187          5        26.95           1280.0  \n",
      "262         0         360           0          0        23.59            104.0  \n",
      "263         0         214         140         11        16.81           1312.0  \n",
      "264         0         215         149          1        22.87            436.0  \n",
      "\n",
      "[265 rows x 19 columns]\n"
     ]
    }
   ],
   "source": [
    "print(merged_data)"
   ]
  },
  {
   "cell_type": "code",
   "execution_count": null,
   "id": "775a4cc8-87b0-4705-97cd-a0f3bd3ae237",
   "metadata": {},
   "outputs": [],
   "source": []
  }
 ],
 "metadata": {
  "kernelspec": {
   "display_name": "Python 3 (ipykernel)",
   "language": "python",
   "name": "python3"
  },
  "language_info": {
   "codemirror_mode": {
    "name": "ipython",
    "version": 3
   },
   "file_extension": ".py",
   "mimetype": "text/x-python",
   "name": "python",
   "nbconvert_exporter": "python",
   "pygments_lexer": "ipython3",
   "version": "3.9.23"
  }
 },
 "nbformat": 4,
 "nbformat_minor": 5
}
