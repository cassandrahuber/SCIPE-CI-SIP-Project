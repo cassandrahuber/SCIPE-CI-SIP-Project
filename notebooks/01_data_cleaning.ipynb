{
 "cells": [
  {
   "cell_type": "code",
   "execution_count": 1,
   "id": "17433b2b-dfa7-4d62-a8a2-c460e7c034c3",
   "metadata": {},
   "outputs": [],
   "source": [
    "import pandas as pd"
   ]
  },
  {
   "cell_type": "code",
   "execution_count": 2,
   "id": "a4e6418c-00ec-4172-bcad-8230b5404204",
   "metadata": {},
   "outputs": [],
   "source": [
    "import os, sys\n",
    "src_path = os.path.abspath(os.path.join('..', 'src'))\n",
    "sys.path.insert(0, src_path)\n",
    "from clean_data import clean_aqi_quality_data, clean_asthma_ed_visits_data, merge_cleaned_data"
   ]
  },
  {
   "cell_type": "code",
   "execution_count": 3,
   "id": "14606707-57f8-416e-b79a-90d210003d31",
   "metadata": {},
   "outputs": [],
   "source": [
    "clean_aqi = clean_aqi_quality_data(2013, 10, '../raw_data')\n",
    "clean_asthma = clean_asthma_ed_visits_data(2013, 10, '../raw_data')\n",
    "clean_aqi.to_csv('../processed_data/cleaned_aqi.csv')\n",
    "clean_asthma.to_csv('../processed_data/cleaned_asthma.csv')\n",
    "\n",
    "#find_missing_data(clean_aqi, clean_asthma, all_counties)\n",
    "\n",
    "merged_data, merged_data_timeframe = merge_cleaned_data(clean_aqi, clean_asthma)\n",
    "merged_data.to_csv('../processed_data/merged_data_' + merged_data_timeframe + '.csv')\n",
    "    "
   ]
  },
  {
   "cell_type": "code",
   "execution_count": null,
   "id": "cd2f2e7e-e0bf-4d12-9c4e-7a0c7d72eb53",
   "metadata": {},
   "outputs": [],
   "source": [
    "#print(clean_aqi)"
   ]
  },
  {
   "cell_type": "code",
   "execution_count": null,
   "id": "8dfa81b1-0849-4ef8-9862-b07cc4dbb9ee",
   "metadata": {},
   "outputs": [],
   "source": [
    "#print(clean_asthma)"
   ]
  },
  {
   "cell_type": "code",
   "execution_count": null,
   "id": "d0237968-2d4f-41a5-a470-badf0ece802f",
   "metadata": {},
   "outputs": [],
   "source": [
    "#print(merged_data)"
   ]
  },
  {
   "cell_type": "code",
   "execution_count": null,
   "id": "649d2261-7c38-405e-9894-10ca7d84a150",
   "metadata": {},
   "outputs": [],
   "source": [
    "all_counties = ['Alameda', 'Alpine', 'Amador', 'Butte', 'Calaveras', 'Colusa', 'Contra Costa',\n",
    "                'Del Norte', 'El Dorado', 'Fresno', 'Glenn', 'Humboldt', 'Imperial', 'Inyo',\n",
    "                'Kern', 'Kings', 'Lake', 'Lassen', 'Los Angeles', 'Madera', 'Marin', 'Mariposa',\n",
    "                'Mendocino', 'Merced', 'Modoc', 'Mono', 'Monterey', 'Napa', 'Nevada', 'Orange',\n",
    "                'Placer', 'Plumas', 'Riverside', 'Sacramento', 'San Benito', 'San Bernardino',\n",
    "                'San Diego', 'San Francisco', 'San Joaquin', 'San Luis Obispo', 'San Mateo',\n",
    "                'Santa Barbara', 'Santa Clara', 'Santa Cruz', 'Shasta', 'Sierra', 'Siskiyou',\n",
    "                'Solano', 'Sonoma', 'Stanislaus', 'Sutter', 'Tehama', 'Trinity', 'Tulare',\n",
    "                'Tuolumne', 'Ventura', 'Yolo', 'Yuba']\n",
    "year_counts = clean_aqi.groupby('county')['year'].nunique()\n",
    "if year_counts.nunique() == 1:\n",
    "    print(\"All counties have data for the same number of years.\")\n",
    "else:\n",
    "    print(\"Counties have inconsistent data across years.\")"
   ]
  },
  {
   "cell_type": "code",
   "execution_count": null,
   "id": "0cf136c9-7b35-4ff4-82d5-8df7c030d53e",
   "metadata": {},
   "outputs": [],
   "source": [
    "\n",
    "def check_missing_data(cleaned_aqi_df, cleaned_asthma_df, all_counties) :\n",
    "    # check aqi data counties appear consistently (all numbers should be equal)\n",
    "    year_counts = cleaned_aqi_df.groupby('county')['year'].nunique()\n",
    "    if year_counts.nunique() == 1 :\n",
    "        print(\"All counties have aqi data for the same number of years.\")\n",
    "    else :\n",
    "        print(\"Counties have inconsistent aqi data across years.\")\n",
    "        print(year_counts.sort_values())\n",
    "        # optional, find the specific years\n",
    "    \n",
    "    # find counties missing all years in aqi data\n",
    "    aqi_counties = cleaned_aqi_df['county'].unique()\n",
    "    missing_counties_aqi = set(all_counties) - set(aqi_counties)\n",
    "    print(\"Counties missing across all years in AQI data:\", missing_counties_aqi)\n",
    "\n",
    "    # find rows with null values in ashtma data\n",
    "    missing_counties_asthma = cleaned_asthma_df[cleaned_asthma_df.isnull().any(axis=1)]\n",
    "    print(\"Counties that have missing asthma data:\", missing_counties_asthma['county'].unique())\n",
    "\n",
    "    # print the subdataframe of specific years that counties have null values\n",
    "    print(\"Subdataframe with specific years:\")\n",
    "    print(missing_counties_asthma)\n",
    "\n",
    "check_missing_data(clean_aqi, clean_asthma, all_counties)"
   ]
  },
  {
   "cell_type": "code",
   "execution_count": null,
   "id": "0a2a1e2a-0fd0-4ca7-a82f-186882dd8a20",
   "metadata": {},
   "outputs": [],
   "source": []
  }
 ],
 "metadata": {
  "kernelspec": {
   "display_name": "Python 3 (ipykernel)",
   "language": "python",
   "name": "python3"
  },
  "language_info": {
   "codemirror_mode": {
    "name": "ipython",
    "version": 3
   },
   "file_extension": ".py",
   "mimetype": "text/x-python",
   "name": "python",
   "nbconvert_exporter": "python",
   "pygments_lexer": "ipython3",
   "version": "3.9.23"
  }
 },
 "nbformat": 4,
 "nbformat_minor": 5
}
