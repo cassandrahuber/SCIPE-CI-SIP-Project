{
 "cells": [
  {
   "cell_type": "code",
   "execution_count": null,
   "id": "ac230965-b719-4048-ad34-20b435ff14d3",
   "metadata": {},
   "outputs": [],
   "source": [
    "import pandas as pd\n",
    "import statsmodels.formula.api as smf\n",
    "import matplotlib.pyplot as plt\n"
   ]
  },
  {
   "cell_type": "code",
   "execution_count": null,
   "id": "26513330-e48c-4c9c-90d2-7719a27a0906",
   "metadata": {},
   "outputs": [],
   "source": [
    "df = pd.read_csv('../processed_data/merged_data_2013-2022.csv')\n",
    "df = df.drop(columns=[\"Unnamed: 0\"])"
   ]
  },
  {
   "cell_type": "markdown",
   "id": "28fcc3cf-7dfc-4dc9-ac03-f65a99db5de2",
   "metadata": {},
   "source": [
    "using models to explore further on the complex relationship:"
   ]
  },
  {
   "cell_type": "code",
   "execution_count": null,
   "id": "2daf5cae-66c4-42d7-a8ee-22f26f587f67",
   "metadata": {},
   "outputs": [],
   "source": [
    "# simple OLS regression model\n",
    "# note: this fit does not account for the whole strength of the relationship\n",
    "model = smf.ols(\"asthma_rate ~ median_aqi\", data=df).fit()\n",
    "print(model.summary())"
   ]
  },
  {
   "cell_type": "code",
   "execution_count": null,
   "id": "8996aec2-d3d5-4726-9ff6-ea2eb787c657",
   "metadata": {},
   "outputs": [],
   "source": [
    "# multiple OLS regression model\n",
    "# note: more complex model but gave much more stronger relationship between aqi and asthma rate\n",
    "\n",
    "# \"aqi vs asthma rate by county and year\"\n",
    "mod = smf.ols('asthma_rate ~ median_aqi + C(county) + C(year)', data=df).fit()\n",
    "print(mod.summary())\n",
    "\n",
    "# extracting the observed, predicted, and residuals\n",
    "y = df['asthma_rate']\n",
    "y_pred  = mod.fittedvalues\n",
    "residuals = mod.resid"
   ]
  },
  {
   "cell_type": "markdown",
   "id": "5a7e3276-fd7f-4841-9fcc-faf6a038b591",
   "metadata": {},
   "source": [
    "visualizations of the regression results:"
   ]
  },
  {
   "cell_type": "code",
   "execution_count": null,
   "id": "46615c39-81cd-42fe-aa4b-7daa28501d93",
   "metadata": {},
   "outputs": [],
   "source": [
    "# actual vs. predicted scatter plot\n",
    "plt.figure(figsize=(8,6))\n",
    "plt.scatter(y, y_pred, alpha=0.5)\n",
    "plt.plot([y.min(), y.max()], [y.min(), y.max()], 'r--')\n",
    "plt.xlabel('Observed asthma_rate')\n",
    "plt.ylabel('Predicted asthma_rate')\n",
    "plt.title('Actual vs. Predicted (Multiple OLS)')\n",
    "plt.show()\n",
    "\n",
    "# residuals distribution histogram\n",
    "plt.figure(figsize=(6,4))\n",
    "plt.hist(residuals, bins=30, edgecolor='k')\n",
    "plt.xlabel('Residual (Observed - Predicted)')\n",
    "plt.title('Residual Distribution')\n",
    "plt.show()\n",
    "\n",
    "# top county fixed effects\n",
    "coefs = mod.params.filter(like='C(county)')\n",
    "top_pos = coefs.sort_values(ascending=False).head(10) # plot top 10 positive\n",
    "top_neg = coefs.sort_values().head(10) # plot top 10 negative\n",
    "plot_coefs = pd.concat([top_pos, top_neg])\n",
    "\n",
    "plt.figure(figsize=(8,6))\n",
    "plot_coefs.plot(kind='barh')\n",
    "plt.xlabel('Coefficient Value')\n",
    "plt.title('Top 10 Negative & Positive County Fixed Effects')\n",
    "plt.show()"
   ]
  }
 ],
 "metadata": {
  "kernelspec": {
   "display_name": "Python 3 (ipykernel)",
   "language": "python",
   "name": "python3"
  },
  "language_info": {
   "codemirror_mode": {
    "name": "ipython",
    "version": 3
   },
   "file_extension": ".py",
   "mimetype": "text/x-python",
   "name": "python",
   "nbconvert_exporter": "python",
   "pygments_lexer": "ipython3",
   "version": "3.9.23"
  }
 },
 "nbformat": 4,
 "nbformat_minor": 5
}
