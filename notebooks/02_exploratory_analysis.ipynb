{
 "cells": [
  {
   "cell_type": "code",
   "execution_count": 2,
   "id": "9e79af98-72ea-499f-be4c-c2eab285d581",
   "metadata": {},
   "outputs": [],
   "source": [
    "import pandas as pd\n",
    "import matplotlib.pyplot as plt\n",
    "import seaborn as sns\n",
    "import numpy as np\n",
    "from scipy import stats"
   ]
  },
  {
   "cell_type": "code",
   "execution_count": 3,
   "id": "455f53c9-90b4-4879-91d5-9b0b8c4ad016",
   "metadata": {},
   "outputs": [
    {
     "name": "stdout",
     "output_type": "stream",
     "text": [
      "Dataset shape: (265, 20)\n",
      "Counties: 53\n",
      "Years: [2017 2018 2019 2020 2021]\n",
      "       Unnamed: 0         year  days_with_aqi   good_days  moderate_days  \\\n",
      "count  265.000000   265.000000     265.000000  265.000000     265.000000   \n",
      "mean   132.000000  2019.000000     359.686792  182.154717     146.822642   \n",
      "std     76.643112     1.416889      25.178078   85.829126      66.012931   \n",
      "min      0.000000  2017.000000     140.000000    7.000000       0.000000   \n",
      "25%     66.000000  2018.000000     365.000000  111.000000      93.000000   \n",
      "50%    132.000000  2019.000000     365.000000  193.000000     147.000000   \n",
      "75%    198.000000  2020.000000     365.000000  251.000000     197.000000   \n",
      "max    264.000000  2021.000000     366.000000  360.000000     302.000000   \n",
      "\n",
      "       unhealthy_for_sensitive_groups_days  unhealthy_days  \\\n",
      "count                           265.000000      265.000000   \n",
      "mean                             20.649057        7.992453   \n",
      "std                              26.392317       11.358481   \n",
      "min                               0.000000        0.000000   \n",
      "25%                               4.000000        0.000000   \n",
      "50%                               9.000000        4.000000   \n",
      "75%                              25.000000       10.000000   \n",
      "max                             115.000000       69.000000   \n",
      "\n",
      "       very_unhealthy_days  hazardous_days      max_aqi  90th_percentile_aqi  \\\n",
      "count           265.000000      265.000000   265.000000           265.000000   \n",
      "mean              1.437736        0.630189   288.094340            87.973585   \n",
      "std               3.109871        2.430674   438.532663            31.399118   \n",
      "min               0.000000        0.000000    50.000000            42.000000   \n",
      "25%               0.000000        0.000000   143.000000            64.000000   \n",
      "50%               0.000000        0.000000   185.000000            82.000000   \n",
      "75%               2.000000        0.000000   250.000000           100.000000   \n",
      "max              23.000000       28.000000  4227.000000           224.000000   \n",
      "\n",
      "       median_aqi     days_co    days_no2  days_ozone  days_pm2.5   days_pm10  \\\n",
      "count  265.000000  265.000000  265.000000  265.000000  265.000000  265.000000   \n",
      "mean    50.992453    0.098113    1.656604  176.588679  169.856604   11.486792   \n",
      "std     14.105123    0.796415    4.303694   88.435993   82.863308   27.234128   \n",
      "min     18.000000    0.000000    0.000000    0.000000    0.000000    0.000000   \n",
      "25%     42.000000    0.000000    0.000000  131.000000  127.000000    0.000000   \n",
      "50%     49.000000    0.000000    0.000000  172.000000  175.000000    2.000000   \n",
      "75%     58.000000    0.000000    1.000000  219.000000  224.000000   11.000000   \n",
      "max     93.000000   12.000000   28.000000  365.000000  365.000000  325.000000   \n",
      "\n",
      "       age-adjusted_rate_per_10,000  number_of_cases  \n",
      "count                    265.000000       265.000000  \n",
      "mean                      38.291358      2591.581132  \n",
      "std                       15.881022      5853.161833  \n",
      "min                       11.810000        26.000000  \n",
      "25%                       26.700000       218.000000  \n",
      "50%                       34.740000       720.000000  \n",
      "75%                       48.010000      2666.000000  \n",
      "max                       91.110000     49365.000000  \n"
     ]
    }
   ],
   "source": [
    "# Load your cleaned data\n",
    "df = pd.read_csv('../processed_data/merged_data_2017-2021.csv')\n",
    "\n",
    "# Basic exploration\n",
    "print(f\"Dataset shape: {df.shape}\")\n",
    "print(f\"Counties: {df['county'].nunique()}\")\n",
    "print(f\"Years: {df['year'].unique()}\")\n",
    "print(df.describe())"
   ]
  },
  {
   "cell_type": "code",
   "execution_count": 12,
   "id": "01d88e3a-36ed-4a5e-8454-092f6c4ab02c",
   "metadata": {},
   "outputs": [],
   "source": [
    "df.rename(columns={'age-adjusted_rate_per_10,000': 'asthma_rate'}, inplace=True)"
   ]
  },
  {
   "cell_type": "code",
   "execution_count": 13,
   "id": "2f06a8dd-2822-4b4a-9d82-06a6c1492604",
   "metadata": {},
   "outputs": [
    {
     "name": "stdout",
     "output_type": "stream",
     "text": [
      "     Unnamed: 0     county  year  days_with_aqi  good_days  moderate_days  \\\n",
      "0             0    Alameda  2017            365        106            245   \n",
      "1             1     Amador  2017            362        291             67   \n",
      "2             2      Butte  2017            365        100            241   \n",
      "3             3  Calaveras  2017            354        118            222   \n",
      "4             4     Colusa  2017            365        237            120   \n",
      "..          ...        ...   ...            ...        ...            ...   \n",
      "260         260    Trinity  2021            328        201             81   \n",
      "261         261     Tulare  2021            365         49            182   \n",
      "262         262   Tuolumne  2021            360        295             63   \n",
      "263         263    Ventura  2021            365        157            198   \n",
      "264         264       Yolo  2021            365        242            117   \n",
      "\n",
      "     unhealthy_for_sensitive_groups_days  unhealthy_days  very_unhealthy_days  \\\n",
      "0                                      9               4                    1   \n",
      "1                                      4               0                    0   \n",
      "2                                     23               1                    0   \n",
      "3                                     12               2                    0   \n",
      "4                                      7               0                    1   \n",
      "..                                   ...             ...                  ...   \n",
      "260                                    4              19                    9   \n",
      "261                                   93              38                    2   \n",
      "262                                    2               0                    0   \n",
      "263                                   10               0                    0   \n",
      "264                                    4               2                    0   \n",
      "\n",
      "     hazardous_days  max_aqi  90th_percentile_aqi  median_aqi  days_co  \\\n",
      "0                 0      205                   78          56        0   \n",
      "1                 0      136                   64          38        0   \n",
      "2                 0      155                   95          59        0   \n",
      "3                 0      172                   87          57        0   \n",
      "4                 0      213                   67          43        0   \n",
      "..              ...      ...                  ...         ...      ...   \n",
      "260              14     1217                  168          38        0   \n",
      "261               1      961                  154          81        0   \n",
      "262               0      136                   61          41        0   \n",
      "263               0      122                   80          53        0   \n",
      "264               0      159                   68          42        0   \n",
      "\n",
      "     days_no2  days_ozone  days_pm2.5  days_pm10  asthma_rate  number_of_cases  \n",
      "0           6          51         308          0        56.04           8916.0  \n",
      "1           0         362           0          0        56.02            175.0  \n",
      "2           0         150         213          2        45.29            935.0  \n",
      "3           0         198         155          1        54.51            197.0  \n",
      "4           0         168         179         18        28.28             62.0  \n",
      "..        ...         ...         ...        ...          ...              ...  \n",
      "260         0           0         328          0        26.72             33.0  \n",
      "261         0         173         187          5        26.95           1280.0  \n",
      "262         0         360           0          0        23.59            104.0  \n",
      "263         0         214         140         11        16.81           1312.0  \n",
      "264         0         215         149          1        22.87            436.0  \n",
      "\n",
      "[265 rows x 20 columns]\n"
     ]
    }
   ],
   "source": [
    "print(df)"
   ]
  },
  {
   "cell_type": "code",
   "execution_count": 16,
   "id": "414da444-6b25-45a2-85ca-ff6ec8251b36",
   "metadata": {},
   "outputs": [
    {
     "name": "stdout",
     "output_type": "stream",
     "text": [
      "     Unnamed: 0     county  year  days_with_aqi  good_days  moderate_days  \\\n",
      "0             0    Alameda  2017            365        106            245   \n",
      "1             1     Amador  2017            362        291             67   \n",
      "2             2      Butte  2017            365        100            241   \n",
      "3             3  Calaveras  2017            354        118            222   \n",
      "4             4     Colusa  2017            365        237            120   \n",
      "..          ...        ...   ...            ...        ...            ...   \n",
      "260         260    Trinity  2021            328        201             81   \n",
      "261         261     Tulare  2021            365         49            182   \n",
      "262         262   Tuolumne  2021            360        295             63   \n",
      "263         263    Ventura  2021            365        157            198   \n",
      "264         264       Yolo  2021            365        242            117   \n",
      "\n",
      "     unhealthy_for_sensitive_groups_days  unhealthy_days  very_unhealthy_days  \\\n",
      "0                                      9               4                    1   \n",
      "1                                      4               0                    0   \n",
      "2                                     23               1                    0   \n",
      "3                                     12               2                    0   \n",
      "4                                      7               0                    1   \n",
      "..                                   ...             ...                  ...   \n",
      "260                                    4              19                    9   \n",
      "261                                   93              38                    2   \n",
      "262                                    2               0                    0   \n",
      "263                                   10               0                    0   \n",
      "264                                    4               2                    0   \n",
      "\n",
      "     hazardous_days  ...  90th_percentile_aqi  median_aqi  days_co  days_no2  \\\n",
      "0                 0  ...                   78          56        0         6   \n",
      "1                 0  ...                   64          38        0         0   \n",
      "2                 0  ...                   95          59        0         0   \n",
      "3                 0  ...                   87          57        0         0   \n",
      "4                 0  ...                   67          43        0         0   \n",
      "..              ...  ...                  ...         ...      ...       ...   \n",
      "260              14  ...                  168          38        0         0   \n",
      "261               1  ...                  154          81        0         0   \n",
      "262               0  ...                   61          41        0         0   \n",
      "263               0  ...                   80          53        0         0   \n",
      "264               0  ...                   68          42        0         0   \n",
      "\n",
      "     days_ozone  days_pm2.5  days_pm10  asthma_rate  number_of_cases  \\\n",
      "0            51         308          0        56.04           8916.0   \n",
      "1           362           0          0        56.02            175.0   \n",
      "2           150         213          2        45.29            935.0   \n",
      "3           198         155          1        54.51            197.0   \n",
      "4           168         179         18        28.28             62.0   \n",
      "..          ...         ...        ...          ...              ...   \n",
      "260           0         328          0        26.72             33.0   \n",
      "261         173         187          5        26.95           1280.0   \n",
      "262         360           0          0        23.59            104.0   \n",
      "263         214         140         11        16.81           1312.0   \n",
      "264         215         149          1        22.87            436.0   \n",
      "\n",
      "        avg_aqi  \n",
      "0    113.000000  \n",
      "1     79.333333  \n",
      "2    103.000000  \n",
      "3    105.333333  \n",
      "4    107.666667  \n",
      "..          ...  \n",
      "260  474.333333  \n",
      "261  398.666667  \n",
      "262   79.333333  \n",
      "263   85.000000  \n",
      "264   89.666667  \n",
      "\n",
      "[265 rows x 21 columns]\n"
     ]
    }
   ],
   "source": [
    "df['avg_aqi'] = df[['max_aqi', 'median_aqi', '90th_percentile_aqi']].mean(axis=1)\n",
    "print(df)"
   ]
  },
  {
   "cell_type": "code",
   "execution_count": 14,
   "id": "38c11e5a-34f4-4be3-abb7-bb2acb6df68d",
   "metadata": {},
   "outputs": [
    {
     "name": "stdout",
     "output_type": "stream",
     "text": [
      "Counties with highest average AQI:\n",
      "county\n",
      "San Bernardino    86.8\n",
      "Riverside         85.4\n",
      "Kern              81.0\n",
      "Los Angeles       78.6\n",
      "Tulare            77.6\n",
      "Fresno            71.4\n",
      "San Diego         68.4\n",
      "Kings             66.8\n",
      "Imperial          61.8\n",
      "Madera            58.8\n",
      "Name: median_aqi, dtype: float64\n",
      "Correlation between AQI and Asthma rates: 0.026\n",
      "R-squared: 0.001, P-value: 0.671\n"
     ]
    }
   ],
   "source": [
    "# 1. Which counties have the worst air quality?\n",
    "worst_aqi = df.groupby('county')['avg_aqi'].mean().sort_values(ascending=False).head(10)\n",
    "print(\"Counties with highest average AQI:\")\n",
    "print(worst_aqi)\n",
    "\n",
    "# 2. Which counties have highest asthma rates?\n",
    "high_asthma = df.groupby('county')['asthma_rate'].mean().sort_values(ascending=False).head(10)\n",
    "\n",
    "# 3. What's the correlation?\n",
    "correlation = df['avg_aqi'].corr(df['asthma_rate'])\n",
    "print(f\"Correlation between AQI and Asthma rates: {correlation:.3f}\")\n",
    "\n",
    "# 4. Statistical significance\n",
    "slope, intercept, r_value, p_value, std_err = stats.linregress(df['avg_aqi'], df['asthma_rate'])\n",
    "print(f\"R-squared: {r_value**2:.3f}, P-value: {p_value:.3f}\")"
   ]
  },
  {
   "cell_type": "code",
   "execution_count": 15,
   "id": "3fa680ab-29b3-4715-a3f3-507d7aa74e8b",
   "metadata": {},
   "outputs": [
    {
     "ename": "KeyError",
     "evalue": "'avg_aqi'",
     "output_type": "error",
     "traceback": [
      "\u001b[0;31m---------------------------------------------------------------------------\u001b[0m",
      "\u001b[0;31mKeyError\u001b[0m                                  Traceback (most recent call last)",
      "File \u001b[0;32m~/miniconda3/envs/cisip/lib/python3.9/site-packages/pandas/core/indexes/base.py:3805\u001b[0m, in \u001b[0;36mIndex.get_loc\u001b[0;34m(self, key)\u001b[0m\n\u001b[1;32m   3804\u001b[0m \u001b[38;5;28;01mtry\u001b[39;00m:\n\u001b[0;32m-> 3805\u001b[0m     \u001b[38;5;28;01mreturn\u001b[39;00m \u001b[38;5;28;43mself\u001b[39;49m\u001b[38;5;241;43m.\u001b[39;49m\u001b[43m_engine\u001b[49m\u001b[38;5;241;43m.\u001b[39;49m\u001b[43mget_loc\u001b[49m\u001b[43m(\u001b[49m\u001b[43mcasted_key\u001b[49m\u001b[43m)\u001b[49m\n\u001b[1;32m   3806\u001b[0m \u001b[38;5;28;01mexcept\u001b[39;00m \u001b[38;5;167;01mKeyError\u001b[39;00m \u001b[38;5;28;01mas\u001b[39;00m err:\n",
      "File \u001b[0;32mindex.pyx:167\u001b[0m, in \u001b[0;36mpandas._libs.index.IndexEngine.get_loc\u001b[0;34m()\u001b[0m\n",
      "File \u001b[0;32mindex.pyx:196\u001b[0m, in \u001b[0;36mpandas._libs.index.IndexEngine.get_loc\u001b[0;34m()\u001b[0m\n",
      "File \u001b[0;32mpandas/_libs/hashtable_class_helper.pxi:7081\u001b[0m, in \u001b[0;36mpandas._libs.hashtable.PyObjectHashTable.get_item\u001b[0;34m()\u001b[0m\n",
      "File \u001b[0;32mpandas/_libs/hashtable_class_helper.pxi:7089\u001b[0m, in \u001b[0;36mpandas._libs.hashtable.PyObjectHashTable.get_item\u001b[0;34m()\u001b[0m\n",
      "\u001b[0;31mKeyError\u001b[0m: 'avg_aqi'",
      "\nThe above exception was the direct cause of the following exception:\n",
      "\u001b[0;31mKeyError\u001b[0m                                  Traceback (most recent call last)",
      "Cell \u001b[0;32mIn[15], line 3\u001b[0m\n\u001b[1;32m      1\u001b[0m \u001b[38;5;66;03m# Scatter plot\u001b[39;00m\n\u001b[1;32m      2\u001b[0m plt\u001b[38;5;241m.\u001b[39mfigure(figsize\u001b[38;5;241m=\u001b[39m(\u001b[38;5;241m10\u001b[39m, \u001b[38;5;241m6\u001b[39m))\n\u001b[0;32m----> 3\u001b[0m plt\u001b[38;5;241m.\u001b[39mscatter(\u001b[43mdf\u001b[49m\u001b[43m[\u001b[49m\u001b[38;5;124;43m'\u001b[39;49m\u001b[38;5;124;43mavg_aqi\u001b[39;49m\u001b[38;5;124;43m'\u001b[39;49m\u001b[43m]\u001b[49m, df[\u001b[38;5;124m'\u001b[39m\u001b[38;5;124masthma_rate\u001b[39m\u001b[38;5;124m'\u001b[39m], alpha\u001b[38;5;241m=\u001b[39m\u001b[38;5;241m0.6\u001b[39m)\n\u001b[1;32m      4\u001b[0m plt\u001b[38;5;241m.\u001b[39mxlabel(\u001b[38;5;124m'\u001b[39m\u001b[38;5;124mAverage AQI\u001b[39m\u001b[38;5;124m'\u001b[39m)\n\u001b[1;32m      5\u001b[0m plt\u001b[38;5;241m.\u001b[39mylabel(\u001b[38;5;124m'\u001b[39m\u001b[38;5;124mAsthma ED Rate per 100k\u001b[39m\u001b[38;5;124m'\u001b[39m)\n",
      "File \u001b[0;32m~/miniconda3/envs/cisip/lib/python3.9/site-packages/pandas/core/frame.py:4102\u001b[0m, in \u001b[0;36mDataFrame.__getitem__\u001b[0;34m(self, key)\u001b[0m\n\u001b[1;32m   4100\u001b[0m \u001b[38;5;28;01mif\u001b[39;00m \u001b[38;5;28mself\u001b[39m\u001b[38;5;241m.\u001b[39mcolumns\u001b[38;5;241m.\u001b[39mnlevels \u001b[38;5;241m>\u001b[39m \u001b[38;5;241m1\u001b[39m:\n\u001b[1;32m   4101\u001b[0m     \u001b[38;5;28;01mreturn\u001b[39;00m \u001b[38;5;28mself\u001b[39m\u001b[38;5;241m.\u001b[39m_getitem_multilevel(key)\n\u001b[0;32m-> 4102\u001b[0m indexer \u001b[38;5;241m=\u001b[39m \u001b[38;5;28;43mself\u001b[39;49m\u001b[38;5;241;43m.\u001b[39;49m\u001b[43mcolumns\u001b[49m\u001b[38;5;241;43m.\u001b[39;49m\u001b[43mget_loc\u001b[49m\u001b[43m(\u001b[49m\u001b[43mkey\u001b[49m\u001b[43m)\u001b[49m\n\u001b[1;32m   4103\u001b[0m \u001b[38;5;28;01mif\u001b[39;00m is_integer(indexer):\n\u001b[1;32m   4104\u001b[0m     indexer \u001b[38;5;241m=\u001b[39m [indexer]\n",
      "File \u001b[0;32m~/miniconda3/envs/cisip/lib/python3.9/site-packages/pandas/core/indexes/base.py:3812\u001b[0m, in \u001b[0;36mIndex.get_loc\u001b[0;34m(self, key)\u001b[0m\n\u001b[1;32m   3807\u001b[0m     \u001b[38;5;28;01mif\u001b[39;00m \u001b[38;5;28misinstance\u001b[39m(casted_key, \u001b[38;5;28mslice\u001b[39m) \u001b[38;5;129;01mor\u001b[39;00m (\n\u001b[1;32m   3808\u001b[0m         \u001b[38;5;28misinstance\u001b[39m(casted_key, abc\u001b[38;5;241m.\u001b[39mIterable)\n\u001b[1;32m   3809\u001b[0m         \u001b[38;5;129;01mand\u001b[39;00m \u001b[38;5;28many\u001b[39m(\u001b[38;5;28misinstance\u001b[39m(x, \u001b[38;5;28mslice\u001b[39m) \u001b[38;5;28;01mfor\u001b[39;00m x \u001b[38;5;129;01min\u001b[39;00m casted_key)\n\u001b[1;32m   3810\u001b[0m     ):\n\u001b[1;32m   3811\u001b[0m         \u001b[38;5;28;01mraise\u001b[39;00m InvalidIndexError(key)\n\u001b[0;32m-> 3812\u001b[0m     \u001b[38;5;28;01mraise\u001b[39;00m \u001b[38;5;167;01mKeyError\u001b[39;00m(key) \u001b[38;5;28;01mfrom\u001b[39;00m\u001b[38;5;250m \u001b[39m\u001b[38;5;21;01merr\u001b[39;00m\n\u001b[1;32m   3813\u001b[0m \u001b[38;5;28;01mexcept\u001b[39;00m \u001b[38;5;167;01mTypeError\u001b[39;00m:\n\u001b[1;32m   3814\u001b[0m     \u001b[38;5;66;03m# If we have a listlike key, _check_indexing_error will raise\u001b[39;00m\n\u001b[1;32m   3815\u001b[0m     \u001b[38;5;66;03m#  InvalidIndexError. Otherwise we fall through and re-raise\u001b[39;00m\n\u001b[1;32m   3816\u001b[0m     \u001b[38;5;66;03m#  the TypeError.\u001b[39;00m\n\u001b[1;32m   3817\u001b[0m     \u001b[38;5;28mself\u001b[39m\u001b[38;5;241m.\u001b[39m_check_indexing_error(key)\n",
      "\u001b[0;31mKeyError\u001b[0m: 'avg_aqi'"
     ]
    },
    {
     "data": {
      "text/plain": [
       "<Figure size 1000x600 with 0 Axes>"
      ]
     },
     "metadata": {},
     "output_type": "display_data"
    }
   ],
   "source": [
    "# Scatter plot\n",
    "plt.figure(figsize=(10, 6))\n",
    "plt.scatter(df['avg_aqi'], df['asthma_rate'], alpha=0.6)\n",
    "plt.xlabel('Average AQI')\n",
    "plt.ylabel('Asthma ED Rate per 100k')\n",
    "plt.title('Air Quality vs Asthma Emergency Department Visits')\n",
    "plt.show()\n",
    "\n",
    "# Time trends\n",
    "yearly_trends = df.groupby('year')[['avg_aqi', 'asthma_rate']].mean()\n",
    "yearly_trends.plot(kind='line', figsize=(12, 6))\n",
    "plt.title('California Air Quality and Asthma Trends Over Time')\n",
    "plt.show()\n",
    "\n",
    "# Top/bottom counties\n",
    "fig, (ax1, ax2) = plt.subplots(1, 2, figsize=(15, 6))\n",
    "worst_aqi.head(10).plot(kind='barh', ax=ax1, title='Worst Air Quality Counties')\n",
    "high_asthma.head(10).plot(kind='barh', ax=ax2, title='Highest Asthma Rate Counties')\n",
    "plt.tight_layout()\n",
    "plt.show()"
   ]
  },
  {
   "cell_type": "code",
   "execution_count": null,
   "id": "38dc65e9-d00a-40f6-9b80-67fe6b09fabf",
   "metadata": {},
   "outputs": [],
   "source": []
  }
 ],
 "metadata": {
  "kernelspec": {
   "display_name": "Python 3 (ipykernel)",
   "language": "python",
   "name": "python3"
  },
  "language_info": {
   "codemirror_mode": {
    "name": "ipython",
    "version": 3
   },
   "file_extension": ".py",
   "mimetype": "text/x-python",
   "name": "python",
   "nbconvert_exporter": "python",
   "pygments_lexer": "ipython3",
   "version": "3.9.23"
  }
 },
 "nbformat": 4,
 "nbformat_minor": 5
}
