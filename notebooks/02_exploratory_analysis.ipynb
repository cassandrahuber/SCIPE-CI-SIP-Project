{
 "cells": [
  {
   "cell_type": "code",
   "execution_count": null,
   "id": "7a0e91ef-2164-4ca3-9721-ed0a2469e31a",
   "metadata": {},
   "outputs": [],
   "source": [
    "import pandas as pd\n",
    "from scipy import stats\n",
    "import matplotlib.pyplot as plt\n",
    "import statsmodels.formula.api as smf"
   ]
  },
  {
   "cell_type": "code",
   "execution_count": null,
   "id": "eed09b7e-96fb-4c9a-8b95-73464e3dd13a",
   "metadata": {},
   "outputs": [],
   "source": [
    "df = pd.read_csv('../processed_data/merged_data_2013-2022.csv')\n",
    "df = df.drop(columns=[\"Unnamed: 0\"])"
   ]
  },
  {
   "cell_type": "code",
   "execution_count": null,
   "id": "9ae0d4ae-d9ed-42b1-bc2f-ce636d194c74",
   "metadata": {},
   "outputs": [],
   "source": [
    "# basic exploration\n",
    "print(f\"Dataset shape: {df.shape}\")\n",
    "print(f\"Counties: {df['county'].nunique()}\")\n",
    "print(f\"Years: {df['year'].unique()}\")\n",
    "print(f\"\\nMissing values: {df.isnull().sum()}\")\n",
    "#print(df.describe())"
   ]
  },
  {
   "cell_type": "markdown",
   "id": "92b436fe-60a9-4505-8cc9-6c92ac5abfbf",
   "metadata": {},
   "source": [
    "bastic statistics of the data:"
   ]
  },
  {
   "cell_type": "code",
   "execution_count": null,
   "id": "0dec255c-61d5-4d95-97a7-4e812442a187",
   "metadata": {},
   "outputs": [],
   "source": [
    "# which counties have the highest median aqi?\n",
    "worst_aqi = df.groupby('county')['median_aqi'].mean().sort_values(ascending=False).head(10)\n",
    "print(\"Counties with highest median AQI:\")\n",
    "print(worst_aqi)\n",
    "\n",
    "# which counties have highest asthma rates?\n",
    "highest_asthma = df.groupby('county')['asthma_rate'].mean().sort_values(ascending=False).head(10)\n",
    "print(\"Counties with highest astham rates:\")\n",
    "print(highest_asthma)\n",
    "\n",
    "# simple correlation analysis (pearson's correlation)\n",
    "correlation = df['median_aqi'].corr(df['asthma_rate'])\n",
    "print(f\"Correlation between AQI and Asthma rates: {correlation:.3f}\")\n",
    "\n",
    "# simple linear regression \n",
    "slope, intercept, r_value, p_value, std_err = stats.linregress(df['median_aqi'], df['asthma_rate'])\n",
    "print(f\"R-squared: {r_value**2:.3f}, P-value: {p_value:.3f}\")"
   ]
  },
  {
   "cell_type": "markdown",
   "id": "b5b76487-fb14-4e02-ae7f-7dcf93e4bd9a",
   "metadata": {},
   "source": [
    "simple visualizations of the relationship between aqi and asthma rates:"
   ]
  },
  {
   "cell_type": "code",
   "execution_count": null,
   "id": "3cbf4ebc-7ffe-4fa0-b36a-d5c8ff77a504",
   "metadata": {
    "scrolled": true
   },
   "outputs": [],
   "source": [
    "#  median aqi vs asthma rate - scatter plot\n",
    "plt.figure(figsize=(10, 6))\n",
    "plt.scatter(df['median_aqi'], df['asthma_rate'], alpha=0.6)\n",
    "plt.xlabel('Median AQI')\n",
    "plt.ylabel('Asthma ED Rate per 10k')\n",
    "plt.title('Air Quality vs Asthma Emergency Department Visits')\n",
    "plt.show()\n",
    "\n",
    "# time trends analysis - line plot\n",
    "yearly_trends = df.groupby('year')[['median_aqi', 'asthma_rate']].mean()\n",
    "yearly_trends.plot(kind='line', figsize=(12, 6))\n",
    "plt.title('California Air Quality and Asthma Trends Over Time')\n",
    "plt.show()"
   ]
  },
  {
   "cell_type": "markdown",
   "id": "166bcccb-0685-479a-80a8-4d0647eef230",
   "metadata": {},
   "source": [
    "looking at more factors in the relationship (aqi & asthma):"
   ]
  },
  {
   "cell_type": "code",
   "execution_count": null,
   "id": "00d6f66b-ee4c-4862-8231-64db6f0f8c0e",
   "metadata": {},
   "outputs": [],
   "source": [
    "# top counties with worst aqi and highest asthma rates - bar plots\n",
    "fig, (ax1, ax2) = plt.subplots(1, 2, figsize=(15, 6))\n",
    "worst_aqi.head(10).plot(kind='barh', ax=ax1, title='Worst Air Quality Counties')\n",
    "highest_asthma.head(10).plot(kind='barh', ax=ax2, title='Highest Asthma Rate Counties')\n",
    "plt.tight_layout()\n",
    "plt.show()\n",
    "\n",
    "# median aqi vs asthma rate colored by year - scatter plot\n",
    "plt.scatter(df['median_aqi'], df['asthma_rate'], c=df['year'])\n",
    "plt.xlabel('Median AQI')\n",
    "plt.ylabel('Asthma ED rate')\n",
    "plt.title('AQI vs. Asthma (2013-2023)')\n",
    "plt.colorbar(label='Year')\n",
    "plt.show()"
   ]
  },
  {
   "cell_type": "markdown",
   "id": "cf240d75-1980-4b67-b710-92dcd4d7fd2e",
   "metadata": {},
   "source": [
    "using models to explore further on the complex relationship:"
   ]
  },
  {
   "cell_type": "code",
   "execution_count": null,
   "id": "a6672ef8-cf05-43e7-a7a3-7cc1837dc157",
   "metadata": {},
   "outputs": [],
   "source": [
    "# simple OLS regression model\n",
    "# note: this fit does not account for the whole strength of the relationship\n",
    "model = smf.ols(\"asthma_rate ~ median_aqi\", data=df).fit()\n",
    "print(model.summary())"
   ]
  },
  {
   "cell_type": "code",
   "execution_count": null,
   "id": "9b957677-7121-4783-8bf3-9f02941ff288",
   "metadata": {},
   "outputs": [],
   "source": [
    "# multiple OLS regression model\n",
    "# note: more complex model but gave much more stronger relationship between aqi and asthma rate\n",
    "\n",
    "# \"aqi vs. asthma rate by county and year\"\n",
    "mod = smf.ols('asthma_rate ~ median_aqi + C(county) + C(year)', data=df).fit()\n",
    "print(mod.summary())\n",
    "\n",
    "# extracting the observed, predicted, and residuals\n",
    "y = df['asthma_rate']\n",
    "y_pred  = mod.fittedvalues\n",
    "residuals = mod.resid"
   ]
  },
  {
   "cell_type": "markdown",
   "id": "52ffc265-921b-47a8-85d0-1454577abab1",
   "metadata": {},
   "source": [
    "visualizations of the regression results:"
   ]
  },
  {
   "cell_type": "code",
   "execution_count": null,
   "id": "7a87089b-e7d4-43b6-a62d-939e4c817888",
   "metadata": {},
   "outputs": [],
   "source": [
    "# actual vs. predicted scatter plot\n",
    "plt.figure(figsize=(8,6))\n",
    "plt.scatter(y, y_pred, alpha=0.5)\n",
    "plt.plot([y.min(), y.max()], [y.min(), y.max()], 'r--')\n",
    "plt.xlabel('Observed asthma_rate')\n",
    "plt.ylabel('Predicted asthma_rate')\n",
    "plt.title('Actual vs. Predicted (Multiple OLS)')\n",
    "plt.show()\n",
    "\n",
    "# residuals distribution histogram\n",
    "plt.figure(figsize=(6,4))\n",
    "plt.hist(residuals, bins=30, edgecolor='k')\n",
    "plt.xlabel('Residual (Observed - Predicted)')\n",
    "plt.title('Residual Distribution')\n",
    "plt.show()\n",
    "\n",
    "# top county fixed effects\n",
    "coefs = mod.params.filter(like='C(county)')\n",
    "top_pos = coefs.sort_values(ascending=False).head(10) # plot top 10 positive\n",
    "top_neg = coefs.sort_values().head(10) # plot top 10 negative\n",
    "plot_coefs = pd.concat([top_pos, top_neg])\n",
    "\n",
    "plt.figure(figsize=(8,6))\n",
    "plot_coefs.plot(kind='barh')\n",
    "plt.xlabel('Coefficient Value')\n",
    "plt.title('Top 10 Negative & Positive County Fixed Effects')\n",
    "plt.show()"
   ]
  }
 ],
 "metadata": {
  "kernelspec": {
   "display_name": "Python 3 (ipykernel)",
   "language": "python",
   "name": "python3"
  },
  "language_info": {
   "codemirror_mode": {
    "name": "ipython",
    "version": 3
   },
   "file_extension": ".py",
   "mimetype": "text/x-python",
   "name": "python",
   "nbconvert_exporter": "python",
   "pygments_lexer": "ipython3",
   "version": "3.9.23"
  }
 },
 "nbformat": 4,
 "nbformat_minor": 5
}
