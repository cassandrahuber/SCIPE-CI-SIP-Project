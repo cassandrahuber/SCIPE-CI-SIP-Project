{
 "cells": [
  {
   "cell_type": "code",
   "execution_count": 6,
   "id": "0495c7fe-1937-4966-8a9d-13629d93ab38",
   "metadata": {},
   "outputs": [],
   "source": [
    "import pandas as pd"
   ]
  },
  {
   "cell_type": "code",
   "execution_count": 7,
   "id": "2a04212e-4b16-433d-94a1-5afa6ae59440",
   "metadata": {},
   "outputs": [],
   "source": [
    "aqi_df = []\n",
    "aqi_files_start_year = 2017\n",
    "\n",
    "for i in range(5) :\n",
    "    # Load the data into a dataframe\n",
    "    df = pd.read_csv('raw_data/annual_aqi_by_county_' + str(i + aqi_files_start_year) + '.csv')\n",
    "    #print(df.info())\n",
    "\n",
    "    df.columns = df.columns.str.strip().str.lower().str.replace(' ', '_')\n",
    "    df = df[df['state'] == 'California'].drop(columns=['state'])\n",
    "    \n",
    "    aqi_df.append(df)"
   ]
  },
  {
   "cell_type": "code",
   "execution_count": null,
   "id": "9acda7cc-ee85-49ce-8b0d-4d992d9f9a5b",
   "metadata": {},
   "outputs": [],
   "source": [
    "# combine all aqi years dataframes into one\n",
    "combined_aqi_df = pd.concat(aqi_df, ignore_index=True)\n",
    "#print(combined_aqi_df)"
   ]
  },
  {
   "cell_type": "code",
   "execution_count": null,
   "id": "aceb955c-4d89-4c99-9b5f-43ba20c668dd",
   "metadata": {},
   "outputs": [],
   "source": [
    "combined_aqi_df.to_csv('processed_data/combined_aqi_data.csv')"
   ]
  },
  {
   "cell_type": "code",
   "execution_count": null,
   "id": "39d3ab93-0847-4710-84d4-6162d392cfc4",
   "metadata": {},
   "outputs": [],
   "source": []
  },
  {
   "cell_type": "code",
   "execution_count": null,
   "id": "138f54d8-1929-466d-b45c-4c11942118a1",
   "metadata": {},
   "outputs": [],
   "source": []
  },
  {
   "cell_type": "code",
   "execution_count": 10,
   "id": "07545057-cdf8-4bde-b22c-793f29f7bbd6",
   "metadata": {},
   "outputs": [],
   "source": [
    "# clean asthma emergency department visits data\n",
    "\n",
    "asthma_df = []\n",
    "asthma_files_start_year = 2017\n",
    "\n",
    "for i in range(5) :\n",
    "    # load the data into a dataframe\n",
    "    df = pd.read_excel('raw_data/Asthma_Emergency_' + str(i + asthma_files_start_year) + '.xlsx')\n",
    "    #print(df.info())\n",
    "\n",
    "    # clean up the dataframe\n",
    "    df.columns = df.columns.str.strip().str.lower().str.replace(' ', '_')\n",
    "    df.rename(columns={'counties': 'county'}, inplace=True)\n",
    "    df = df[df['county'] != 'California'] # remove rows with 'California' in county name\n",
    "    df = df.drop(columns=['lower_95%_limit', 'upper_95%_limit'])  # optional, but cleaner\n",
    " \n",
    "    # add year column and reorder columns to have year after county (like in aqi_df)\n",
    "    df['year'] = i + asthma_files_start_year\n",
    "    columns_order = ['county', 'year'] + [col for col in df.columns if col not in ['county', 'year']]\n",
    "    df = df[columns_order]\n",
    "\n",
    "    asthma_df.append(df)\n"
   ]
  },
  {
   "cell_type": "code",
   "execution_count": 11,
   "id": "e19d37bf-951b-4ef0-8af4-1b714140f1e7",
   "metadata": {},
   "outputs": [
    {
     "name": "stdout",
     "output_type": "stream",
     "text": [
      "        county  year  age-adjusted_rate_per_10,000  number_of_cases\n",
      "0      Alameda  2017                         56.04           8916.0\n",
      "1       Alpine  2017                           NaN              NaN\n",
      "2       Amador  2017                         56.02            175.0\n",
      "3        Butte  2017                         45.29            935.0\n",
      "4    Calaveras  2017                         54.51            197.0\n",
      "..         ...   ...                           ...              ...\n",
      "285     Tulare  2021                         26.95           1280.0\n",
      "286   Tuolumne  2021                         23.59            104.0\n",
      "287    Ventura  2021                         16.81           1312.0\n",
      "288       Yolo  2021                         22.87            436.0\n",
      "289       Yuba  2021                         29.34            235.0\n",
      "\n",
      "[290 rows x 4 columns]\n"
     ]
    }
   ],
   "source": [
    "# combine all asthma years dataframes into one\n",
    "combined_asthma_df = pd.concat(asthma_df, ignore_index=True)\n",
    "#print(combined_asthma_df)"
   ]
  },
  {
   "cell_type": "code",
   "execution_count": 12,
   "id": "577bb07d-9f1f-45c7-84a5-b2af201a3d58",
   "metadata": {},
   "outputs": [],
   "source": [
    "combined_asthma_df.to_csv('processed_data/combined_asthma_data.csv')"
   ]
  },
  {
   "cell_type": "code",
   "execution_count": 22,
   "id": "27aec2c2-e50f-4812-b17f-95894f1258a5",
   "metadata": {},
   "outputs": [
    {
     "name": "stdout",
     "output_type": "stream",
     "text": [
      "<class 'pandas.core.frame.DataFrame'>\n",
      "RangeIndex: 290 entries, 0 to 289\n",
      "Data columns (total 4 columns):\n",
      " #   Column                        Non-Null Count  Dtype  \n",
      "---  ------                        --------------  -----  \n",
      " 0   county                        290 non-null    object \n",
      " 1   year                          290 non-null    int64  \n",
      " 2   age-adjusted_rate_per_10,000  281 non-null    float64\n",
      " 3   number_of_cases               281 non-null    float64\n",
      "dtypes: float64(2), int64(1), object(1)\n",
      "memory usage: 9.2+ KB\n",
      "None\n"
     ]
    }
   ],
   "source": [
    "print(combined_asthma_df.info())"
   ]
  },
  {
   "cell_type": "code",
   "execution_count": null,
   "id": "f1c43b73-fe79-441a-acc9-129d1972df3a",
   "metadata": {},
   "outputs": [],
   "source": []
  },
  {
   "cell_type": "code",
   "execution_count": 20,
   "id": "c54f514c-bf0e-4022-b3b9-dbeae6123111",
   "metadata": {},
   "outputs": [
    {
     "name": "stdout",
     "output_type": "stream",
     "text": [
      "58 53\n"
     ]
    }
   ],
   "source": [
    "# find counties missing\n",
    "\n",
    "# count number of years county appears in aqi data\n",
    "year_counts = combined_aqi_df.groupby('county')['year'].nunique()\n",
    "#print(year_counts.sort_values())\n",
    "\n",
    "#figure out which counties missing in aqi data\n",
    "all_counties = combined_asthma_df['county'].unique()\n",
    "aqi_counties = combined_aqi_df['county'].unique()\n",
    "#print(len(all_counties), len(aqi_counties))"
   ]
  },
  {
   "cell_type": "code",
   "execution_count": 21,
   "id": "c07239ca-b4d8-439c-988d-27f94c8e4e10",
   "metadata": {
    "scrolled": true
   },
   "outputs": [
    {
     "name": "stdout",
     "output_type": "stream",
     "text": [
      "Counties missing in AQI data: {'Alpine', 'Sierra', 'Modoc', 'Yuba', 'Lassen'}\n"
     ]
    }
   ],
   "source": [
    "missing_counties = set(all_counties) - set(aqi_counties)\n",
    "print(\"Counties missing in AQI data:\", missing_counties)"
   ]
  },
  {
   "cell_type": "code",
   "execution_count": 26,
   "id": "b438d762-89e2-4f0e-8bb8-01db797ed80d",
   "metadata": {},
   "outputs": [
    {
     "ename": "AttributeError",
     "evalue": "'str' object has no attribute 'number_of_cases'",
     "output_type": "error",
     "traceback": [
      "\u001b[0;31m---------------------------------------------------------------------------\u001b[0m",
      "\u001b[0;31mAttributeError\u001b[0m                            Traceback (most recent call last)",
      "Cell \u001b[0;32mIn[26], line 2\u001b[0m\n\u001b[1;32m      1\u001b[0m \u001b[38;5;28;01mfor\u001b[39;00m row \u001b[38;5;129;01min\u001b[39;00m combined_asthma_df:\n\u001b[0;32m----> 2\u001b[0m     \u001b[38;5;28;01mif\u001b[39;00m \u001b[38;5;124m'\u001b[39m\u001b[38;5;124mnull\u001b[39m\u001b[38;5;124m'\u001b[39m \u001b[38;5;129;01min\u001b[39;00m \u001b[43mrow\u001b[49m\u001b[38;5;241;43m.\u001b[39;49m\u001b[43mnumber_of_cases\u001b[49m :\n\u001b[1;32m      3\u001b[0m         \u001b[38;5;28mprint\u001b[39m(\u001b[38;5;124mf\u001b[39m\u001b[38;5;124m\"\u001b[39m\u001b[38;5;124mCounty \u001b[39m\u001b[38;5;132;01m{\u001b[39;00mrow\u001b[38;5;241m.\u001b[39mcounty\u001b[38;5;132;01m}\u001b[39;00m\u001b[38;5;124m is missing in AQI data for year \u001b[39m\u001b[38;5;132;01m{\u001b[39;00mrow\u001b[38;5;241m.\u001b[39myear\u001b[38;5;132;01m}\u001b[39;00m\u001b[38;5;124m\"\u001b[39m)\n",
      "\u001b[0;31mAttributeError\u001b[0m: 'str' object has no attribute 'number_of_cases'"
     ]
    }
   ],
   "source": [
    "for row in combined_asthma_df:\n",
    "    if 'null' in row.number_of_cases :\n",
    "        print(f\"County {row.county} is missing in AQI data for year {row.year}\")\n",
    "    "
   ]
  },
  {
   "cell_type": "code",
   "execution_count": 27,
   "id": "687b3d75-76d0-4750-bf69-ad14f7717090",
   "metadata": {},
   "outputs": [
    {
     "name": "stdout",
     "output_type": "stream",
     "text": [
      "Pandas(Index=0, county='Alameda', year=2017, _3=56.04, number_of_cases=8916.0)\n",
      "Pandas(Index=1, county='Alpine', year=2017, _3=nan, number_of_cases=nan)\n",
      "Pandas(Index=2, county='Amador', year=2017, _3=56.02, number_of_cases=175.0)\n",
      "Pandas(Index=3, county='Butte', year=2017, _3=45.29, number_of_cases=935.0)\n",
      "Pandas(Index=4, county='Calaveras', year=2017, _3=54.51, number_of_cases=197.0)\n",
      "Pandas(Index=5, county='Colusa', year=2017, _3=28.28, number_of_cases=62.0)\n",
      "Pandas(Index=6, county='Contra Costa', year=2017, _3=62.21, number_of_cases=6697.0)\n",
      "Pandas(Index=7, county='Del Norte', year=2017, _3=59.78, number_of_cases=148.0)\n",
      "Pandas(Index=8, county='El Dorado', year=2017, _3=40.66, number_of_cases=649.0)\n",
      "Pandas(Index=9, county='Fresno', year=2017, _3=75.31, number_of_cases=7775.0)\n",
      "Pandas(Index=10, county='Glenn', year=2017, _3=45.63, number_of_cases=129.0)\n",
      "Pandas(Index=11, county='Humboldt', year=2017, _3=66.62, number_of_cases=848.0)\n",
      "Pandas(Index=12, county='Imperial', year=2017, _3=65.49, number_of_cases=1290.0)\n",
      "Pandas(Index=13, county='Inyo', year=2017, _3=71.14, number_of_cases=110.0)\n",
      "Pandas(Index=14, county='Kern', year=2017, _3=52.13, number_of_cases=4840.0)\n",
      "Pandas(Index=15, county='Kings', year=2017, _3=67.87, number_of_cases=1072.0)\n",
      "Pandas(Index=16, county='Lake', year=2017, _3=79.75, number_of_cases=481.0)\n",
      "Pandas(Index=17, county='Lassen', year=2017, _3=43.87, number_of_cases=130.0)\n",
      "Pandas(Index=18, county='Los Angeles', year=2017, _3=49.85, number_of_cases=49365.0)\n",
      "Pandas(Index=19, county='Madera', year=2017, _3=61.78, number_of_cases=978.0)\n",
      "Pandas(Index=20, county='Marin', year=2017, _3=23.33, number_of_cases=563.0)\n",
      "Pandas(Index=21, county='Mariposa', year=2017, _3=46.04, number_of_cases=63.0)\n",
      "Pandas(Index=22, county='Mendocino', year=2017, _3=70.37, number_of_cases=563.0)\n",
      "Pandas(Index=23, county='Merced', year=2017, _3=73.9, number_of_cases=2063.0)\n",
      "Pandas(Index=24, county='Modoc', year=2017, _3=106.26, number_of_cases=77.0)\n",
      "Pandas(Index=25, county='Mono', year=2017, _3=31.92, number_of_cases=40.0)\n",
      "Pandas(Index=26, county='Monterey', year=2017, _3=42.82, number_of_cases=1913.0)\n",
      "Pandas(Index=27, county='Napa', year=2017, _3=39.65, number_of_cases=535.0)\n",
      "Pandas(Index=28, county='Nevada', year=2017, _3=38.34, number_of_cases=306.0)\n",
      "Pandas(Index=29, county='Orange', year=2017, _3=29.65, number_of_cases=9069.0)\n",
      "Pandas(Index=30, county='Placer', year=2017, _3=34.6, number_of_cases=1191.0)\n",
      "Pandas(Index=31, county='Plumas', year=2017, _3=62.32, number_of_cases=86.0)\n",
      "Pandas(Index=32, county='Riverside', year=2017, _3=43.06, number_of_cases=10057.0)\n",
      "Pandas(Index=33, county='Sacramento', year=2017, _3=68.18, number_of_cases=10105.0)\n",
      "Pandas(Index=34, county='San Benito', year=2017, _3=60.76, number_of_cases=339.0)\n",
      "Pandas(Index=35, county='San Bernardino', year=2017, _3=51.21, number_of_cases=11181.0)\n",
      "Pandas(Index=36, county='San Diego', year=2017, _3=31.65, number_of_cases=10323.0)\n",
      "Pandas(Index=37, county='San Francisco', year=2017, _3=41.74, number_of_cases=3240.0)\n",
      "Pandas(Index=38, county='San Joaquin', year=2017, _3=65.61, number_of_cases=4869.0)\n",
      "Pandas(Index=39, county='San Luis Obispo', year=2017, _3=33.13, number_of_cases=799.0)\n",
      "Pandas(Index=40, county='San Mateo', year=2017, _3=31.63, number_of_cases=2342.0)\n",
      "Pandas(Index=41, county='Santa Barbara', year=2017, _3=33.48, number_of_cases=1467.0)\n",
      "Pandas(Index=42, county='Santa Clara', year=2017, _3=30.52, number_of_cases=5849.0)\n",
      "Pandas(Index=43, county='Santa Cruz', year=2017, _3=29.88, number_of_cases=770.0)\n",
      "Pandas(Index=44, county='Shasta', year=2017, _3=45.19, number_of_cases=720.0)\n",
      "Pandas(Index=45, county='Sierra', year=2017, _3=nan, number_of_cases=nan)\n",
      "Pandas(Index=46, county='Siskiyou', year=2017, _3=42.03, number_of_cases=159.0)\n",
      "Pandas(Index=47, county='Solano', year=2017, _3=91.11, number_of_cases=3844.0)\n",
      "Pandas(Index=48, county='Sonoma', year=2017, _3=41.34, number_of_cases=1937.0)\n",
      "Pandas(Index=49, county='Stanislaus', year=2017, _3=56.49, number_of_cases=3070.0)\n",
      "Pandas(Index=50, county='Sutter', year=2017, _3=31.53, number_of_cases=300.0)\n",
      "Pandas(Index=51, county='Tehama', year=2017, _3=59.26, number_of_cases=348.0)\n",
      "Pandas(Index=52, county='Trinity', year=2017, _3=50.16, number_of_cases=55.0)\n",
      "Pandas(Index=53, county='Tulare', year=2017, _3=43.28, number_of_cases=2132.0)\n",
      "Pandas(Index=54, county='Tuolumne', year=2017, _3=53.54, number_of_cases=244.0)\n",
      "Pandas(Index=55, county='Ventura', year=2017, _3=34.62, number_of_cases=2826.0)\n",
      "Pandas(Index=56, county='Yolo', year=2017, _3=43.1, number_of_cases=890.0)\n",
      "Pandas(Index=57, county='Yuba', year=2017, _3=47.78, number_of_cases=366.0)\n",
      "Pandas(Index=58, county='Alameda', year=2018, _3=48.4, number_of_cases=7778.0)\n",
      "Pandas(Index=59, county='Alpine', year=2018, _3=nan, number_of_cases=nan)\n",
      "Pandas(Index=60, county='Amador', year=2018, _3=43.83, number_of_cases=137.0)\n",
      "Pandas(Index=61, county='Butte', year=2018, _3=42.13, number_of_cases=906.0)\n",
      "Pandas(Index=62, county='Calaveras', year=2018, _3=51.8, number_of_cases=185.0)\n",
      "Pandas(Index=63, county='Colusa', year=2018, _3=53.47, number_of_cases=118.0)\n",
      "Pandas(Index=64, county='Contra Costa', year=2018, _3=55.1, number_of_cases=5991.0)\n",
      "Pandas(Index=65, county='Del Norte', year=2018, _3=53.22, number_of_cases=132.0)\n",
      "Pandas(Index=66, county='El Dorado', year=2018, _3=34.19, number_of_cases=564.0)\n",
      "Pandas(Index=67, county='Fresno', year=2018, _3=66.96, number_of_cases=6928.0)\n",
      "Pandas(Index=68, county='Glenn', year=2018, _3=35.88, number_of_cases=101.0)\n",
      "Pandas(Index=69, county='Humboldt', year=2018, _3=53.04, number_of_cases=686.0)\n",
      "Pandas(Index=70, county='Imperial', year=2018, _3=57.85, number_of_cases=1146.0)\n",
      "Pandas(Index=71, county='Inyo', year=2018, _3=49.03, number_of_cases=81.0)\n",
      "Pandas(Index=72, county='Kern', year=2018, _3=46.18, number_of_cases=4290.0)\n",
      "Pandas(Index=73, county='Kings', year=2018, _3=53.69, number_of_cases=832.0)\n",
      "Pandas(Index=74, county='Lake', year=2018, _3=86.34, number_of_cases=503.0)\n",
      "Pandas(Index=75, county='Lassen', year=2018, _3=37.84, number_of_cases=112.0)\n",
      "Pandas(Index=76, county='Los Angeles', year=2018, _3=47.03, number_of_cases=46644.0)\n",
      "Pandas(Index=77, county='Madera', year=2018, _3=50.88, number_of_cases=812.0)\n",
      "Pandas(Index=78, county='Marin', year=2018, _3=24.14, number_of_cases=583.0)\n",
      "Pandas(Index=79, county='Mariposa', year=2018, _3=47.31, number_of_cases=68.0)\n",
      "Pandas(Index=80, county='Mendocino', year=2018, _3=61.89, number_of_cases=504.0)\n",
      "Pandas(Index=81, county='Merced', year=2018, _3=59.87, number_of_cases=1704.0)\n",
      "Pandas(Index=82, county='Modoc', year=2018, _3=109.15, number_of_cases=84.0)\n",
      "Pandas(Index=83, county='Mono', year=2018, _3=54.77, number_of_cases=65.0)\n",
      "Pandas(Index=84, county='Monterey', year=2018, _3=36.09, number_of_cases=1613.0)\n",
      "Pandas(Index=85, county='Napa', year=2018, _3=37.03, number_of_cases=510.0)\n",
      "Pandas(Index=86, county='Nevada', year=2018, _3=26.02, number_of_cases=219.0)\n",
      "Pandas(Index=87, county='Orange', year=2018, _3=26.45, number_of_cases=8168.0)\n",
      "Pandas(Index=88, county='Placer', year=2018, _3=32.86, number_of_cases=1151.0)\n",
      "Pandas(Index=89, county='Plumas', year=2018, _3=61.1, number_of_cases=92.0)\n",
      "Pandas(Index=90, county='Riverside', year=2018, _3=37.73, number_of_cases=8910.0)\n",
      "Pandas(Index=91, county='Sacramento', year=2018, _3=64.1, number_of_cases=9633.0)\n",
      "Pandas(Index=92, county='San Benito', year=2018, _3=56.48, number_of_cases=318.0)\n",
      "Pandas(Index=93, county='San Bernardino', year=2018, _3=47.22, number_of_cases=10331.0)\n",
      "Pandas(Index=94, county='San Diego', year=2018, _3=28.69, number_of_cases=9424.0)\n",
      "Pandas(Index=95, county='San Francisco', year=2018, _3=36.18, number_of_cases=2854.0)\n",
      "Pandas(Index=96, county='San Joaquin', year=2018, _3=60.31, number_of_cases=4519.0)\n",
      "Pandas(Index=97, county='San Luis Obispo', year=2018, _3=28.06, number_of_cases=692.0)\n",
      "Pandas(Index=98, county='San Mateo', year=2018, _3=27.38, number_of_cases=2050.0)\n",
      "Pandas(Index=99, county='Santa Barbara', year=2018, _3=27.37, number_of_cases=1207.0)\n",
      "Pandas(Index=100, county='Santa Clara', year=2018, _3=26.25, number_of_cases=5084.0)\n",
      "Pandas(Index=101, county='Santa Cruz', year=2018, _3=27.79, number_of_cases=721.0)\n",
      "Pandas(Index=102, county='Shasta', year=2018, _3=38.38, number_of_cases=604.0)\n",
      "Pandas(Index=103, county='Sierra', year=2018, _3=53.5, number_of_cases=12.0)\n",
      "Pandas(Index=104, county='Siskiyou', year=2018, _3=34.12, number_of_cases=138.0)\n",
      "Pandas(Index=105, county='Solano', year=2018, _3=79.02, number_of_cases=3344.0)\n",
      "Pandas(Index=106, county='Sonoma', year=2018, _3=37.71, number_of_cases=1766.0)\n",
      "Pandas(Index=107, county='Stanislaus', year=2018, _3=52.66, number_of_cases=2899.0)\n",
      "Pandas(Index=108, county='Sutter', year=2018, _3=29.8, number_of_cases=291.0)\n",
      "Pandas(Index=109, county='Tehama', year=2018, _3=48.01, number_of_cases=288.0)\n",
      "Pandas(Index=110, county='Trinity', year=2018, _3=59.8, number_of_cases=57.0)\n",
      "Pandas(Index=111, county='Tulare', year=2018, _3=32.11, number_of_cases=1598.0)\n",
      "Pandas(Index=112, county='Tuolumne', year=2018, _3=47.32, number_of_cases=220.0)\n",
      "Pandas(Index=113, county='Ventura', year=2018, _3=30.31, number_of_cases=2465.0)\n",
      "Pandas(Index=114, county='Yolo', year=2018, _3=38.93, number_of_cases=804.0)\n",
      "Pandas(Index=115, county='Yuba', year=2018, _3=42.9, number_of_cases=333.0)\n",
      "Pandas(Index=116, county='Alameda', year=2019, _3=46.34, number_of_cases=7432.0)\n",
      "Pandas(Index=117, county='Alpine', year=2019, _3=nan, number_of_cases=nan)\n",
      "Pandas(Index=118, county='Amador', year=2019, _3=52.68, number_of_cases=169.0)\n",
      "Pandas(Index=119, county='Butte', year=2019, _3=37.77, number_of_cases=752.0)\n",
      "Pandas(Index=120, county='Calaveras', year=2019, _3=58.8, number_of_cases=199.0)\n",
      "Pandas(Index=121, county='Colusa', year=2019, _3=47.17, number_of_cases=103.0)\n",
      "Pandas(Index=122, county='Contra Costa', year=2019, _3=54.97, number_of_cases=5888.0)\n",
      "Pandas(Index=123, county='Del Norte', year=2019, _3=48.0, number_of_cases=117.0)\n",
      "Pandas(Index=124, county='El Dorado', year=2019, _3=33.25, number_of_cases=539.0)\n",
      "Pandas(Index=125, county='Fresno', year=2019, _3=63.37, number_of_cases=6588.0)\n",
      "Pandas(Index=126, county='Glenn', year=2019, _3=40.41, number_of_cases=118.0)\n",
      "Pandas(Index=127, county='Humboldt', year=2019, _3=49.54, number_of_cases=614.0)\n",
      "Pandas(Index=128, county='Imperial', year=2019, _3=61.9, number_of_cases=1197.0)\n",
      "Pandas(Index=129, county='Inyo', year=2019, _3=60.97, number_of_cases=92.0)\n",
      "Pandas(Index=130, county='Kern', year=2019, _3=46.57, number_of_cases=4278.0)\n",
      "Pandas(Index=131, county='Kings', year=2019, _3=47.49, number_of_cases=752.0)\n",
      "Pandas(Index=132, county='Lake', year=2019, _3=90.9, number_of_cases=508.0)\n",
      "Pandas(Index=133, county='Lassen', year=2019, _3=36.67, number_of_cases=101.0)\n",
      "Pandas(Index=134, county='Los Angeles', year=2019, _3=47.95, number_of_cases=46731.0)\n",
      "Pandas(Index=135, county='Madera', year=2019, _3=50.11, number_of_cases=779.0)\n",
      "Pandas(Index=136, county='Marin', year=2019, _3=23.27, number_of_cases=540.0)\n",
      "Pandas(Index=137, county='Mariposa', year=2019, _3=37.75, number_of_cases=63.0)\n",
      "Pandas(Index=138, county='Mendocino', year=2019, _3=61.11, number_of_cases=488.0)\n",
      "Pandas(Index=139, county='Merced', year=2019, _3=59.66, number_of_cases=1687.0)\n",
      "Pandas(Index=140, county='Modoc', year=2019, _3=91.93, number_of_cases=67.0)\n",
      "Pandas(Index=141, county='Mono', year=2019, _3=47.89, number_of_cases=51.0)\n",
      "Pandas(Index=142, county='Monterey', year=2019, _3=36.95, number_of_cases=1630.0)\n",
      "Pandas(Index=143, county='Napa', year=2019, _3=37.75, number_of_cases=496.0)\n",
      "Pandas(Index=144, county='Nevada', year=2019, _3=27.74, number_of_cases=218.0)\n",
      "Pandas(Index=145, county='Orange', year=2019, _3=27.26, number_of_cases=8315.0)\n",
      "Pandas(Index=146, county='Placer', year=2019, _3=29.45, number_of_cases=1036.0)\n",
      "Pandas(Index=147, county='Plumas', year=2019, _3=56.34, number_of_cases=86.0)\n",
      "Pandas(Index=148, county='Riverside', year=2019, _3=39.48, number_of_cases=9237.0)\n",
      "Pandas(Index=149, county='Sacramento', year=2019, _3=59.48, number_of_cases=8986.0)\n",
      "Pandas(Index=150, county='San Benito', year=2019, _3=58.02, number_of_cases=340.0)\n",
      "Pandas(Index=151, county='San Bernardino', year=2019, _3=50.06, number_of_cases=10877.0)\n",
      "Pandas(Index=152, county='San Diego', year=2019, _3=30.2, number_of_cases=9860.0)\n",
      "Pandas(Index=153, county='San Francisco', year=2019, _3=33.21, number_of_cases=2666.0)\n",
      "Pandas(Index=154, county='San Joaquin', year=2019, _3=58.01, number_of_cases=4373.0)\n",
      "Pandas(Index=155, county='San Luis Obispo', year=2019, _3=31.87, number_of_cases=762.0)\n",
      "Pandas(Index=156, county='San Mateo', year=2019, _3=26.21, number_of_cases=1983.0)\n",
      "Pandas(Index=157, county='Santa Barbara', year=2019, _3=28.11, number_of_cases=1225.0)\n",
      "Pandas(Index=158, county='Santa Clara', year=2019, _3=24.29, number_of_cases=4646.0)\n",
      "Pandas(Index=159, county='Santa Cruz', year=2019, _3=30.52, number_of_cases=796.0)\n",
      "Pandas(Index=160, county='Shasta', year=2019, _3=39.94, number_of_cases=630.0)\n",
      "Pandas(Index=161, county='Sierra', year=2019, _3=nan, number_of_cases=nan)\n",
      "Pandas(Index=162, county='Siskiyou', year=2019, _3=40.79, number_of_cases=148.0)\n",
      "Pandas(Index=163, county='Solano', year=2019, _3=71.26, number_of_cases=2986.0)\n",
      "Pandas(Index=164, county='Sonoma', year=2019, _3=32.65, number_of_cases=1487.0)\n",
      "Pandas(Index=165, county='Stanislaus', year=2019, _3=52.93, number_of_cases=2887.0)\n",
      "Pandas(Index=166, county='Sutter', year=2019, _3=27.19, number_of_cases=274.0)\n",
      "Pandas(Index=167, county='Tehama', year=2019, _3=46.61, number_of_cases=273.0)\n",
      "Pandas(Index=168, county='Trinity', year=2019, _3=43.23, number_of_cases=47.0)\n",
      "Pandas(Index=169, county='Tulare', year=2019, _3=40.67, number_of_cases=1994.0)\n",
      "Pandas(Index=170, county='Tuolumne', year=2019, _3=44.83, number_of_cases=185.0)\n",
      "Pandas(Index=171, county='Ventura', year=2019, _3=30.65, number_of_cases=2410.0)\n",
      "Pandas(Index=172, county='Yolo', year=2019, _3=35.9, number_of_cases=742.0)\n",
      "Pandas(Index=173, county='Yuba', year=2019, _3=42.43, number_of_cases=327.0)\n",
      "Pandas(Index=174, county='Alameda', year=2020, _3=27.32, number_of_cases=4274.0)\n",
      "Pandas(Index=175, county='Alpine', year=2020, _3=nan, number_of_cases=nan)\n",
      "Pandas(Index=176, county='Amador', year=2020, _3=28.89, number_of_cases=103.0)\n",
      "Pandas(Index=177, county='Butte', year=2020, _3=23.98, number_of_cases=473.0)\n",
      "Pandas(Index=178, county='Calaveras', year=2020, _3=29.14, number_of_cases=111.0)\n",
      "Pandas(Index=179, county='Colusa', year=2020, _3=25.45, number_of_cases=49.0)\n",
      "Pandas(Index=180, county='Contra Costa', year=2020, _3=27.07, number_of_cases=3033.0)\n",
      "Pandas(Index=181, county='Del Norte', year=2020, _3=40.45, number_of_cases=104.0)\n",
      "Pandas(Index=182, county='El Dorado', year=2020, _3=21.02, number_of_cases=351.0)\n",
      "Pandas(Index=183, county='Fresno', year=2020, _3=34.74, number_of_cases=3500.0)\n",
      "Pandas(Index=184, county='Glenn', year=2020, _3=20.38, number_of_cases=55.0)\n",
      "Pandas(Index=185, county='Humboldt', year=2020, _3=34.21, number_of_cases=442.0)\n",
      "Pandas(Index=186, county='Imperial', year=2020, _3=26.7, number_of_cases=474.0)\n",
      "Pandas(Index=187, county='Inyo', year=2020, _3=26.91, number_of_cases=46.0)\n",
      "Pandas(Index=188, county='Kern', year=2020, _3=27.98, number_of_cases=2528.0)\n",
      "Pandas(Index=189, county='Kings', year=2020, _3=27.64, number_of_cases=425.0)\n",
      "Pandas(Index=190, county='Lake', year=2020, _3=44.32, number_of_cases=269.0)\n",
      "Pandas(Index=191, county='Lassen', year=2020, _3=29.64, number_of_cases=90.0)\n",
      "Pandas(Index=192, county='Los Angeles', year=2020, _3=26.6, number_of_cases=25868.0)\n",
      "Pandas(Index=193, county='Madera', year=2020, _3=31.15, number_of_cases=473.0)\n",
      "Pandas(Index=194, county='Marin', year=2020, _3=11.81, number_of_cases=279.0)\n",
      "Pandas(Index=195, county='Mariposa', year=2020, _3=23.43, number_of_cases=31.0)\n",
      "Pandas(Index=196, county='Mendocino', year=2020, _3=38.28, number_of_cases=314.0)\n",
      "Pandas(Index=197, county='Merced', year=2020, _3=37.82, number_of_cases=1033.0)\n",
      "Pandas(Index=198, county='Modoc', year=2020, _3=61.24, number_of_cases=42.0)\n",
      "Pandas(Index=199, county='Mono', year=2020, _3=36.04, number_of_cases=40.0)\n",
      "Pandas(Index=200, county='Monterey', year=2020, _3=21.34, number_of_cases=917.0)\n",
      "Pandas(Index=201, county='Napa', year=2020, _3=22.98, number_of_cases=322.0)\n",
      "Pandas(Index=202, county='Nevada', year=2020, _3=20.74, number_of_cases=174.0)\n",
      "Pandas(Index=203, county='Orange', year=2020, _3=15.88, number_of_cases=4866.0)\n",
      "Pandas(Index=204, county='Placer', year=2020, _3=16.13, number_of_cases=621.0)\n",
      "Pandas(Index=205, county='Plumas', year=2020, _3=40.49, number_of_cases=57.0)\n",
      "Pandas(Index=206, county='Riverside', year=2020, _3=24.75, number_of_cases=5870.0)\n",
      "Pandas(Index=207, county='Sacramento', year=2020, _3=35.15, number_of_cases=5480.0)\n",
      "Pandas(Index=208, county='San Benito', year=2020, _3=35.38, number_of_cases=219.0)\n",
      "Pandas(Index=209, county='San Bernardino', year=2020, _3=31.0, number_of_cases=6752.0)\n",
      "Pandas(Index=210, county='San Diego', year=2020, _3=17.69, number_of_cases=5739.0)\n",
      "Pandas(Index=211, county='San Francisco', year=2020, _3=17.02, number_of_cases=1435.0)\n",
      "Pandas(Index=212, county='San Joaquin', year=2020, _3=37.98, number_of_cases=2941.0)\n",
      "Pandas(Index=213, county='San Luis Obispo', year=2020, _3=16.84, number_of_cases=432.0)\n",
      "Pandas(Index=214, county='San Mateo', year=2020, _3=14.42, number_of_cases=1080.0)\n",
      "Pandas(Index=215, county='Santa Barbara', year=2020, _3=15.37, number_of_cases=678.0)\n",
      "Pandas(Index=216, county='Santa Clara', year=2020, _3=14.95, number_of_cases=2810.0)\n",
      "Pandas(Index=217, county='Santa Cruz', year=2020, _3=17.08, number_of_cases=457.0)\n",
      "Pandas(Index=218, county='Shasta', year=2020, _3=24.03, number_of_cases=400.0)\n",
      "Pandas(Index=219, county='Sierra', year=2020, _3=nan, number_of_cases=nan)\n",
      "Pandas(Index=220, county='Siskiyou', year=2020, _3=25.1, number_of_cases=86.0)\n",
      "Pandas(Index=221, county='Solano', year=2020, _3=40.18, number_of_cases=1766.0)\n",
      "Pandas(Index=222, county='Sonoma', year=2020, _3=18.76, number_of_cases=884.0)\n",
      "Pandas(Index=223, county='Stanislaus', year=2020, _3=32.9, number_of_cases=1802.0)\n",
      "Pandas(Index=224, county='Sutter', year=2020, _3=19.42, number_of_cases=183.0)\n",
      "Pandas(Index=225, county='Tehama', year=2020, _3=28.11, number_of_cases=173.0)\n",
      "Pandas(Index=226, county='Trinity', year=2020, _3=21.85, number_of_cases=26.0)\n",
      "Pandas(Index=227, county='Tulare', year=2020, _3=24.56, number_of_cases=1134.0)\n",
      "Pandas(Index=228, county='Tuolumne', year=2020, _3=26.74, number_of_cases=129.0)\n",
      "Pandas(Index=229, county='Ventura', year=2020, _3=17.26, number_of_cases=1393.0)\n",
      "Pandas(Index=230, county='Yolo', year=2020, _3=22.99, number_of_cases=455.0)\n",
      "Pandas(Index=231, county='Yuba', year=2020, _3=24.15, number_of_cases=191.0)\n",
      "Pandas(Index=232, county='Alameda', year=2021, _3=25.31, number_of_cases=3862.0)\n",
      "Pandas(Index=233, county='Alpine', year=2021, _3=nan, number_of_cases=nan)\n",
      "Pandas(Index=234, county='Amador', year=2021, _3=32.41, number_of_cases=95.0)\n",
      "Pandas(Index=235, county='Butte', year=2021, _3=23.72, number_of_cases=443.0)\n",
      "Pandas(Index=236, county='Calaveras', year=2021, _3=36.74, number_of_cases=120.0)\n",
      "Pandas(Index=237, county='Colusa', year=2021, _3=28.35, number_of_cases=61.0)\n",
      "Pandas(Index=238, county='Contra Costa', year=2021, _3=26.6, number_of_cases=2907.0)\n",
      "Pandas(Index=239, county='Del Norte', year=2021, _3=38.8, number_of_cases=97.0)\n",
      "Pandas(Index=240, county='El Dorado', year=2021, _3=24.18, number_of_cases=387.0)\n",
      "Pandas(Index=241, county='Fresno', year=2021, _3=34.7, number_of_cases=3521.0)\n",
      "Pandas(Index=242, county='Glenn', year=2021, _3=29.34, number_of_cases=79.0)\n",
      "Pandas(Index=243, county='Humboldt', year=2021, _3=27.67, number_of_cases=344.0)\n",
      "Pandas(Index=244, county='Imperial', year=2021, _3=21.93, number_of_cases=400.0)\n",
      "Pandas(Index=245, county='Inyo', year=2021, _3=34.43, number_of_cases=50.0)\n",
      "Pandas(Index=246, county='Kern', year=2021, _3=26.84, number_of_cases=2440.0)\n",
      "Pandas(Index=247, county='Kings', year=2021, _3=34.27, number_of_cases=526.0)\n",
      "Pandas(Index=248, county='Lake', year=2021, _3=40.32, number_of_cases=242.0)\n",
      "Pandas(Index=249, county='Lassen', year=2021, _3=28.92, number_of_cases=89.0)\n",
      "Pandas(Index=250, county='Los Angeles', year=2021, _3=26.2, number_of_cases=24746.0)\n",
      "Pandas(Index=251, county='Madera', year=2021, _3=31.19, number_of_cases=471.0)\n",
      "Pandas(Index=252, county='Marin', year=2021, _3=13.78, number_of_cases=305.0)\n",
      "Pandas(Index=253, county='Mariposa', year=2021, _3=17.51, number_of_cases=26.0)\n",
      "Pandas(Index=254, county='Mendocino', year=2021, _3=33.13, number_of_cases=266.0)\n",
      "Pandas(Index=255, county='Merced', year=2021, _3=37.24, number_of_cases=1049.0)\n",
      "Pandas(Index=256, county='Modoc', year=2021, _3=51.68, number_of_cases=35.0)\n",
      "Pandas(Index=257, county='Mono', year=2021, _3=29.35, number_of_cases=36.0)\n",
      "Pandas(Index=258, county='Monterey', year=2021, _3=22.36, number_of_cases=968.0)\n",
      "Pandas(Index=259, county='Napa', year=2021, _3=15.67, number_of_cases=201.0)\n",
      "Pandas(Index=260, county='Nevada', year=2021, _3=20.51, number_of_cases=168.0)\n",
      "Pandas(Index=261, county='Orange', year=2021, _3=16.11, number_of_cases=4788.0)\n",
      "Pandas(Index=262, county='Placer', year=2021, _3=19.86, number_of_cases=734.0)\n",
      "Pandas(Index=263, county='Plumas', year=2021, _3=26.49, number_of_cases=39.0)\n",
      "Pandas(Index=264, county='Riverside', year=2021, _3=26.0, number_of_cases=6069.0)\n",
      "Pandas(Index=265, county='Sacramento', year=2021, _3=32.46, number_of_cases=5008.0)\n",
      "Pandas(Index=266, county='San Benito', year=2021, _3=24.26, number_of_cases=145.0)\n",
      "Pandas(Index=267, county='San Bernardino', year=2021, _3=30.45, number_of_cases=6560.0)\n",
      "Pandas(Index=268, county='San Diego', year=2021, _3=17.91, number_of_cases=5716.0)\n",
      "Pandas(Index=269, county='San Francisco', year=2021, _3=17.92, number_of_cases=1387.0)\n",
      "Pandas(Index=270, county='San Joaquin', year=2021, _3=35.29, number_of_cases=2708.0)\n",
      "Pandas(Index=271, county='San Luis Obispo', year=2021, _3=16.28, number_of_cases=411.0)\n",
      "Pandas(Index=272, county='San Mateo', year=2021, _3=13.17, number_of_cases=926.0)\n",
      "Pandas(Index=273, county='Santa Barbara', year=2021, _3=15.73, number_of_cases=672.0)\n",
      "Pandas(Index=274, county='Santa Clara', year=2021, _3=14.56, number_of_cases=2663.0)\n",
      "Pandas(Index=275, county='Santa Cruz', year=2021, _3=18.52, number_of_cases=443.0)\n",
      "Pandas(Index=276, county='Shasta', year=2021, _3=25.27, number_of_cases=409.0)\n",
      "Pandas(Index=277, county='Sierra', year=2021, _3=nan, number_of_cases=nan)\n",
      "Pandas(Index=278, county='Siskiyou', year=2021, _3=21.42, number_of_cases=76.0)\n",
      "Pandas(Index=279, county='Solano', year=2021, _3=40.05, number_of_cases=1705.0)\n",
      "Pandas(Index=280, county='Sonoma', year=2021, _3=15.0, number_of_cases=673.0)\n",
      "Pandas(Index=281, county='Stanislaus', year=2021, _3=32.44, number_of_cases=1769.0)\n",
      "Pandas(Index=282, county='Sutter', year=2021, _3=23.18, number_of_cases=215.0)\n",
      "Pandas(Index=283, county='Tehama', year=2021, _3=31.38, number_of_cases=189.0)\n",
      "Pandas(Index=284, county='Trinity', year=2021, _3=26.72, number_of_cases=33.0)\n",
      "Pandas(Index=285, county='Tulare', year=2021, _3=26.95, number_of_cases=1280.0)\n",
      "Pandas(Index=286, county='Tuolumne', year=2021, _3=23.59, number_of_cases=104.0)\n",
      "Pandas(Index=287, county='Ventura', year=2021, _3=16.81, number_of_cases=1312.0)\n",
      "Pandas(Index=288, county='Yolo', year=2021, _3=22.87, number_of_cases=436.0)\n",
      "Pandas(Index=289, county='Yuba', year=2021, _3=29.34, number_of_cases=235.0)\n"
     ]
    }
   ],
   "source": [
    "for row in combined_asthma_df.itertuples():\n",
    "    print(row)"
   ]
  },
  {
   "cell_type": "code",
   "execution_count": 39,
   "id": "888a6322-e115-4c98-a827-9966c35646bf",
   "metadata": {},
   "outputs": [],
   "source": [
    "for row in combined_asthma_df.itertuples():\n",
    "    if 'NaN' in row:\n",
    "        print(f\"Missing data for county {row.county} in year {row.year}\")"
   ]
  },
  {
   "cell_type": "code",
   "execution_count": 43,
   "id": "5a8b43b8-d514-4148-b8c0-3a2bcbd8923d",
   "metadata": {},
   "outputs": [
    {
     "name": "stdout",
     "output_type": "stream",
     "text": [
      "9\n"
     ]
    }
   ],
   "source": [
    "missing_counties_asthma = combined_asthma_df['number_of_cases'].isnull().sum()\n",
    "print(missing_counties_asthma)"
   ]
  },
  {
   "cell_type": "code",
   "execution_count": 44,
   "id": "e4765459-e053-461a-8e0c-2d61a484088e",
   "metadata": {},
   "outputs": [
    {
     "ename": "KeyError",
     "evalue": "'number_of_cases'",
     "output_type": "error",
     "traceback": [
      "\u001b[0;31m---------------------------------------------------------------------------\u001b[0m",
      "\u001b[0;31mKeyError\u001b[0m                                  Traceback (most recent call last)",
      "File \u001b[0;32m~/miniconda3/envs/cisip/lib/python3.9/site-packages/pandas/core/indexes/base.py:3805\u001b[0m, in \u001b[0;36mIndex.get_loc\u001b[0;34m(self, key)\u001b[0m\n\u001b[1;32m   3804\u001b[0m \u001b[38;5;28;01mtry\u001b[39;00m:\n\u001b[0;32m-> 3805\u001b[0m     \u001b[38;5;28;01mreturn\u001b[39;00m \u001b[38;5;28;43mself\u001b[39;49m\u001b[38;5;241;43m.\u001b[39;49m\u001b[43m_engine\u001b[49m\u001b[38;5;241;43m.\u001b[39;49m\u001b[43mget_loc\u001b[49m\u001b[43m(\u001b[49m\u001b[43mcasted_key\u001b[49m\u001b[43m)\u001b[49m\n\u001b[1;32m   3806\u001b[0m \u001b[38;5;28;01mexcept\u001b[39;00m \u001b[38;5;167;01mKeyError\u001b[39;00m \u001b[38;5;28;01mas\u001b[39;00m err:\n",
      "File \u001b[0;32mindex.pyx:167\u001b[0m, in \u001b[0;36mpandas._libs.index.IndexEngine.get_loc\u001b[0;34m()\u001b[0m\n",
      "File \u001b[0;32mindex.pyx:196\u001b[0m, in \u001b[0;36mpandas._libs.index.IndexEngine.get_loc\u001b[0;34m()\u001b[0m\n",
      "File \u001b[0;32mpandas/_libs/hashtable_class_helper.pxi:7081\u001b[0m, in \u001b[0;36mpandas._libs.hashtable.PyObjectHashTable.get_item\u001b[0;34m()\u001b[0m\n",
      "File \u001b[0;32mpandas/_libs/hashtable_class_helper.pxi:7089\u001b[0m, in \u001b[0;36mpandas._libs.hashtable.PyObjectHashTable.get_item\u001b[0;34m()\u001b[0m\n",
      "\u001b[0;31mKeyError\u001b[0m: 'number_of_cases'",
      "\nThe above exception was the direct cause of the following exception:\n",
      "\u001b[0;31mKeyError\u001b[0m                                  Traceback (most recent call last)",
      "Cell \u001b[0;32mIn[44], line 1\u001b[0m\n\u001b[0;32m----> 1\u001b[0m \u001b[38;5;28;01mfor\u001b[39;00m row \u001b[38;5;129;01min\u001b[39;00m \u001b[43mcombined_aqi_df\u001b[49m\u001b[43m[\u001b[49m\u001b[38;5;124;43m'\u001b[39;49m\u001b[38;5;124;43mnumber_of_cases\u001b[39;49m\u001b[38;5;124;43m'\u001b[39;49m\u001b[43m]\u001b[49m :\n\u001b[1;32m      2\u001b[0m     \u001b[38;5;28;01mif\u001b[39;00m row\u001b[38;5;241m.\u001b[39misnull() :\n\u001b[1;32m      3\u001b[0m         \u001b[38;5;28mprint\u001b[39m(row\u001b[38;5;241m.\u001b[39mcounty \u001b[38;5;241m+\u001b[39m \u001b[38;5;124m'\u001b[39m\u001b[38;5;124mis null\u001b[39m\u001b[38;5;124m'\u001b[39m)\n",
      "File \u001b[0;32m~/miniconda3/envs/cisip/lib/python3.9/site-packages/pandas/core/frame.py:4102\u001b[0m, in \u001b[0;36mDataFrame.__getitem__\u001b[0;34m(self, key)\u001b[0m\n\u001b[1;32m   4100\u001b[0m \u001b[38;5;28;01mif\u001b[39;00m \u001b[38;5;28mself\u001b[39m\u001b[38;5;241m.\u001b[39mcolumns\u001b[38;5;241m.\u001b[39mnlevels \u001b[38;5;241m>\u001b[39m \u001b[38;5;241m1\u001b[39m:\n\u001b[1;32m   4101\u001b[0m     \u001b[38;5;28;01mreturn\u001b[39;00m \u001b[38;5;28mself\u001b[39m\u001b[38;5;241m.\u001b[39m_getitem_multilevel(key)\n\u001b[0;32m-> 4102\u001b[0m indexer \u001b[38;5;241m=\u001b[39m \u001b[38;5;28;43mself\u001b[39;49m\u001b[38;5;241;43m.\u001b[39;49m\u001b[43mcolumns\u001b[49m\u001b[38;5;241;43m.\u001b[39;49m\u001b[43mget_loc\u001b[49m\u001b[43m(\u001b[49m\u001b[43mkey\u001b[49m\u001b[43m)\u001b[49m\n\u001b[1;32m   4103\u001b[0m \u001b[38;5;28;01mif\u001b[39;00m is_integer(indexer):\n\u001b[1;32m   4104\u001b[0m     indexer \u001b[38;5;241m=\u001b[39m [indexer]\n",
      "File \u001b[0;32m~/miniconda3/envs/cisip/lib/python3.9/site-packages/pandas/core/indexes/base.py:3812\u001b[0m, in \u001b[0;36mIndex.get_loc\u001b[0;34m(self, key)\u001b[0m\n\u001b[1;32m   3807\u001b[0m     \u001b[38;5;28;01mif\u001b[39;00m \u001b[38;5;28misinstance\u001b[39m(casted_key, \u001b[38;5;28mslice\u001b[39m) \u001b[38;5;129;01mor\u001b[39;00m (\n\u001b[1;32m   3808\u001b[0m         \u001b[38;5;28misinstance\u001b[39m(casted_key, abc\u001b[38;5;241m.\u001b[39mIterable)\n\u001b[1;32m   3809\u001b[0m         \u001b[38;5;129;01mand\u001b[39;00m \u001b[38;5;28many\u001b[39m(\u001b[38;5;28misinstance\u001b[39m(x, \u001b[38;5;28mslice\u001b[39m) \u001b[38;5;28;01mfor\u001b[39;00m x \u001b[38;5;129;01min\u001b[39;00m casted_key)\n\u001b[1;32m   3810\u001b[0m     ):\n\u001b[1;32m   3811\u001b[0m         \u001b[38;5;28;01mraise\u001b[39;00m InvalidIndexError(key)\n\u001b[0;32m-> 3812\u001b[0m     \u001b[38;5;28;01mraise\u001b[39;00m \u001b[38;5;167;01mKeyError\u001b[39;00m(key) \u001b[38;5;28;01mfrom\u001b[39;00m\u001b[38;5;250m \u001b[39m\u001b[38;5;21;01merr\u001b[39;00m\n\u001b[1;32m   3813\u001b[0m \u001b[38;5;28;01mexcept\u001b[39;00m \u001b[38;5;167;01mTypeError\u001b[39;00m:\n\u001b[1;32m   3814\u001b[0m     \u001b[38;5;66;03m# If we have a listlike key, _check_indexing_error will raise\u001b[39;00m\n\u001b[1;32m   3815\u001b[0m     \u001b[38;5;66;03m#  InvalidIndexError. Otherwise we fall through and re-raise\u001b[39;00m\n\u001b[1;32m   3816\u001b[0m     \u001b[38;5;66;03m#  the TypeError.\u001b[39;00m\n\u001b[1;32m   3817\u001b[0m     \u001b[38;5;28mself\u001b[39m\u001b[38;5;241m.\u001b[39m_check_indexing_error(key)\n",
      "\u001b[0;31mKeyError\u001b[0m: 'number_of_cases'"
     ]
    }
   ],
   "source": [
    "for row in combined_aqi_df['number_of_cases'] :\n",
    "    if row.isnull() :\n",
    "        print(row.county + 'is null')"
   ]
  },
  {
   "cell_type": "code",
   "execution_count": null,
   "id": "88b5a741-4c73-4f72-a148-cc46040b6922",
   "metadata": {},
   "outputs": [],
   "source": []
  }
 ],
 "metadata": {
  "kernelspec": {
   "display_name": "Python 3 (ipykernel)",
   "language": "python",
   "name": "python3"
  },
  "language_info": {
   "codemirror_mode": {
    "name": "ipython",
    "version": 3
   },
   "file_extension": ".py",
   "mimetype": "text/x-python",
   "name": "python",
   "nbconvert_exporter": "python",
   "pygments_lexer": "ipython3",
   "version": "3.9.23"
  }
 },
 "nbformat": 4,
 "nbformat_minor": 5
}
