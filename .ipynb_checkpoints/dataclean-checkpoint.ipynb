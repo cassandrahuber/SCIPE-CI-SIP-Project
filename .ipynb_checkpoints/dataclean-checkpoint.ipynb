{
 "cells": [
  {
   "cell_type": "code",
   "execution_count": 1,
   "id": "0495c7fe-1937-4966-8a9d-13629d93ab38",
   "metadata": {},
   "outputs": [],
   "source": [
    "import pandas as pd"
   ]
  },
  {
   "cell_type": "code",
   "execution_count": null,
   "id": "2a04212e-4b16-433d-94a1-5afa6ae59440",
   "metadata": {},
   "outputs": [],
   "source": [
    "aqi_df = []\n",
    "aqi_files_start_year = 2017\n",
    "\n",
    "for i in range(5) :\n",
    "    # Load the data into a DataFrame\n",
    "    df = pd.read_csv('raw_data/annual_aqi_by_county_' + str(i + aqi_files_start_year) + '.csv')\n",
    "    df = df[df['State'] == 'California'].drop(columns=['State'])\n",
    "    ##print(df.info())\n",
    "    ##df.set_index('County', inplace=True)\n",
    "    aqi_df.append(df)"
   ]
  },
  {
   "cell_type": "code",
   "execution_count": null,
   "id": "17896f02-9843-43b8-abed-7c38bc3ef38b",
   "metadata": {},
   "outputs": [],
   "source": [
    "# combine all aqi years dataframes into one\n",
    "combined_aqi_df = pd.concat(aqi_df, ignore_index=True)\n",
    "print(combined_aqi_df)"
   ]
  },
  {
   "cell_type": "code",
   "execution_count": null,
   "id": "aceb955c-4d89-4c99-9b5f-43ba20c668dd",
   "metadata": {},
   "outputs": [],
   "source": [
    "combined_aqi_df.to_csv('processed_data/combined_aqi_data.csv')"
   ]
  },
  {
   "cell_type": "code",
   "execution_count": 4,
   "id": "07545057-cdf8-4bde-b22c-793f29f7bbd6",
   "metadata": {},
   "outputs": [
    {
     "name": "stdout",
     "output_type": "stream",
     "text": [
      "<class 'pandas.core.frame.DataFrame'>\n",
      "RangeIndex: 59 entries, 0 to 58\n",
      "Data columns (total 5 columns):\n",
      " #   Column                        Non-Null Count  Dtype  \n",
      "---  ------                        --------------  -----  \n",
      " 0   Counties                      59 non-null     object \n",
      " 1   Age-adjusted rate per 10,000  57 non-null     float64\n",
      " 2   Lower 95% Limit               57 non-null     float64\n",
      " 3   Upper 95% Limit               57 non-null     float64\n",
      " 4   Number of cases               57 non-null     float64\n",
      "dtypes: float64(4), object(1)\n",
      "memory usage: 2.4+ KB\n",
      "None\n"
     ]
    }
   ],
   "source": [
    "# clean asthma emergency department visits data\n",
    "\n",
    "asthma_df = []\n",
    "df = pd.read_excel('raw_data/Asthma_Emergency_2017.xlsx')\n",
    "print(df.info())"
   ]
  },
  {
   "cell_type": "code",
   "execution_count": null,
   "id": "e19d37bf-951b-4ef0-8af4-1b714140f1e7",
   "metadata": {},
   "outputs": [],
   "source": []
  }
 ],
 "metadata": {
  "kernelspec": {
   "display_name": "Python 3 (ipykernel)",
   "language": "python",
   "name": "python3"
  },
  "language_info": {
   "codemirror_mode": {
    "name": "ipython",
    "version": 3
   },
   "file_extension": ".py",
   "mimetype": "text/x-python",
   "name": "python",
   "nbconvert_exporter": "python",
   "pygments_lexer": "ipython3",
   "version": "3.9.23"
  }
 },
 "nbformat": 4,
 "nbformat_minor": 5
}
