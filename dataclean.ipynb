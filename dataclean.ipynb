{
 "cells": [
  {
   "cell_type": "code",
   "execution_count": 1,
   "id": "0495c7fe-1937-4966-8a9d-13629d93ab38",
   "metadata": {},
   "outputs": [],
   "source": [
    "import pandas as pd"
   ]
  },
  {
   "cell_type": "code",
   "execution_count": 2,
   "id": "2a04212e-4b16-433d-94a1-5afa6ae59440",
   "metadata": {},
   "outputs": [],
   "source": [
    "aqi_df = []\n",
    "aqi_files_start_year = 2017\n",
    "\n",
    "for i in range(5) :\n",
    "    # Load the data into a dataframe\n",
    "    df = pd.read_csv('raw_data/annual_aqi_by_county_' + str(i + aqi_files_start_year) + '.csv')\n",
    "    #print(df.info())\n",
    "\n",
    "    df.columns = df.columns.str.strip().str.lower().str.replace(' ', '_')\n",
    "    df = df[df['state'] == 'California'].drop(columns=['state'])\n",
    "    \n",
    "    aqi_df.append(df)"
   ]
  },
  {
   "cell_type": "code",
   "execution_count": 3,
   "id": "9acda7cc-ee85-49ce-8b0d-4d992d9f9a5b",
   "metadata": {},
   "outputs": [],
   "source": [
    "# combine all aqi years dataframes into one\n",
    "combined_aqi_df = pd.concat(aqi_df, ignore_index=True)\n",
    "#print(combined_aqi_df)"
   ]
  },
  {
   "cell_type": "code",
   "execution_count": 40,
   "id": "39d3ab93-0847-4710-84d4-6162d392cfc4",
   "metadata": {},
   "outputs": [],
   "source": [
    "# combine all aqi years dataframes into one\n",
    "cleaned_aqi_df = pd.concat(aqi_df, ignore_index=True)\n",
    "#print(cleaned_aqi_data)\n",
    "cleaned_aqi_df.to_csv('processed_data/cleaned_aqi.csv')"
   ]
  },
  {
   "cell_type": "code",
   "execution_count": null,
   "id": "138f54d8-1929-466d-b45c-4c11942118a1",
   "metadata": {},
   "outputs": [],
   "source": []
  },
  {
   "cell_type": "code",
   "execution_count": 31,
   "id": "07545057-cdf8-4bde-b22c-793f29f7bbd6",
   "metadata": {},
   "outputs": [],
   "source": [
    "# clean asthma emergency department visits data\n",
    "\n",
    "asthma_df = []\n",
    "asthma_files_start_year = 2017\n",
    "\n",
    "for i in range(5) :\n",
    "    # load the data into a dataframe\n",
    "    df = pd.read_excel('raw_data/Asthma_Emergency_' + str(i + asthma_files_start_year) + '.xlsx')\n",
    "    #print(df.info())\n",
    "\n",
    "    # clean up the dataframe\n",
    "    df.columns = df.columns.str.strip().str.lower().str.replace(' ', '_')\n",
    "    df.rename(columns={'counties': 'county'}, inplace=True)\n",
    "    df = df[df['county'] != 'California'] # remove rows with 'California' in county name\n",
    "    df = df.drop(columns=['lower_95%_limit', 'upper_95%_limit'])  # optional, but cleaner\n",
    " \n",
    "    # add year column and reorder columns to have year after county (like in aqi_df)\n",
    "    df['year'] = i + asthma_files_start_year\n",
    "    columns_order = ['county', 'year'] + [col for col in df.columns if col not in ['county', 'year']]\n",
    "    df = df[columns_order]\n",
    "\n",
    "    asthma_df.append(df)\n"
   ]
  },
  {
   "cell_type": "code",
   "execution_count": 38,
   "id": "e19d37bf-951b-4ef0-8af4-1b714140f1e7",
   "metadata": {},
   "outputs": [],
   "source": [
    "# combine all asthma years dataframes into one\n",
    "cleaned_asthma_df = pd.concat(asthma_df, ignore_index=True)\n",
    "\n",
    "#print(cleaned_asthma_df)\n",
    "cleaned_asthma_df.to_csv('processed_data/cleaned_asthma.csv')\n"
   ]
  },
  {
   "cell_type": "code",
   "execution_count": 25,
   "id": "c54f514c-bf0e-4022-b3b9-dbeae6123111",
   "metadata": {},
   "outputs": [
    {
     "name": "stdout",
     "output_type": "stream",
     "text": [
      "['Alameda' 'Alpine' 'Amador' 'Butte' 'Calaveras' 'Colusa' 'Contra Costa'\n",
      " 'Del Norte' 'El Dorado' 'Fresno' 'Glenn' 'Humboldt' 'Imperial' 'Inyo'\n",
      " 'Kern' 'Kings' 'Lake' 'Lassen' 'Los Angeles' 'Madera' 'Marin' 'Mariposa'\n",
      " 'Mendocino' 'Merced' 'Modoc' 'Mono' 'Monterey' 'Napa' 'Nevada' 'Orange'\n",
      " 'Placer' 'Plumas' 'Riverside' 'Sacramento' 'San Benito' 'San Bernardino'\n",
      " 'San Diego' 'San Francisco' 'San Joaquin' 'San Luis Obispo' 'San Mateo'\n",
      " 'Santa Barbara' 'Santa Clara' 'Santa Cruz' 'Shasta' 'Sierra' 'Siskiyou'\n",
      " 'Solano' 'Sonoma' 'Stanislaus' 'Sutter' 'Tehama' 'Trinity' 'Tulare'\n",
      " 'Tuolumne' 'Ventura' 'Yolo' 'Yuba']\n"
     ]
    }
   ],
   "source": [
    "# find counties missing\n",
    "\n",
    "# count number of years county appears in aqi data\n",
    "year_counts = combined_aqi_df.groupby('county')['year'].nunique()\n",
    "#print(year_counts.sort_values())\n",
    "\n",
    "#figure out which counties missing in aqi data\n",
    "all_counties = combined_asthma_df['county'].unique()\n",
    "aqi_counties = combined_aqi_df['county'].unique()\n",
    "#print(len(all_counties), len(aqi_counties))\n",
    "print(all_counties)"
   ]
  },
  {
   "cell_type": "code",
   "execution_count": 30,
   "id": "c07239ca-b4d8-439c-988d-27f94c8e4e10",
   "metadata": {
    "scrolled": true
   },
   "outputs": [
    {
     "name": "stdout",
     "output_type": "stream",
     "text": [
      "Counties missing in AQI data: {'Modoc', 'Lassen', 'Alpine', 'Yuba', 'Sierra'}\n"
     ]
    }
   ],
   "source": [
    "missing_counties_aqi = set(all_counties) - set(aqi_counties)\n",
    "print(\"Counties missing in AQI data:\", missing_counties_aqi)"
   ]
  },
  {
   "cell_type": "code",
   "execution_count": null,
   "id": "a0c8fcec-bacd-4acf-923d-979c2e44b925",
   "metadata": {},
   "outputs": [],
   "source": [
    "# find rows with null values in ashtma data\n",
    "missing_counties_asthma = combined_asthma_df[combined_asthma_df.isnull().any(axis=1)]\n",
    "\n",
    "# print counties with null values\n",
    "print(missing_counties_asthma['county'].unique())\n",
    "\n",
    "# print the entire rows with null values\n",
    "print(missing_counties_asthma)"
   ]
  },
  {
   "cell_type": "code",
   "execution_count": null,
   "id": "76b9a95c-2a96-48b3-b825-4f84e8708af4",
   "metadata": {},
   "outputs": [],
   "source": [
    "import itertools\n",
    "\n",
    "years = sorted(combined_aqi_df['year'].unique())\n",
    "skeleton = pd.DataFrame(itertools.product(all_counties, years),\n",
    "                        columns=['county','year'])\n",
    "\n",
    "merged = skeleton.merge(combined_aqi_df, on=['county','year'], how='left')\n",
    "\n",
    "# Rows where median_aqi is missing:\n",
    "gaps = merged[merged['median_aqi'].isna()]\n",
    "\n",
    "# Count gaps per county\n",
    "gap_counts = gaps.groupby('county').size().sort_values(ascending=False)\n",
    "print(gap_counts)"
   ]
  },
  {
   "cell_type": "code",
   "execution_count": 29,
   "id": "fc2b5df8-b1d9-423e-9636-ac879efee0f3",
   "metadata": {},
   "outputs": [],
   "source": [
    "all_counties = ['Alameda', 'Alpine', 'Amador', 'Butte', 'Calaveras', 'Colusa', 'Contra Costa',\n",
    "                'Del Norte', 'El Dorado', 'Fresno', 'Glenn', 'Humboldt', 'Imperial', 'Inyo',\n",
    "                'Kern', 'Kings', 'Lake', 'Lassen', 'Los Angeles', 'Madera', 'Marin', 'Mariposa',\n",
    "                'Mendocino', 'Merced', 'Modoc', 'Mono', 'Monterey', 'Napa', 'Nevada', 'Orange',\n",
    "                'Placer', 'Plumas', 'Riverside', 'Sacramento', 'San Benito', 'San Bernardino',\n",
    "                'San Diego', 'San Francisco', 'San Joaquin', 'San Luis Obispo', 'San Mateo',\n",
    "                'Santa Barbara', 'Santa Clara', 'Santa Cruz', 'Shasta', 'Sierra', 'Siskiyou',\n",
    "                'Solano', 'Sonoma', 'Stanislaus', 'Sutter', 'Tehama', 'Trinity', 'Tulare',\n",
    "                'Tuolumne', 'Ventura', 'Yolo', 'Yuba']"
   ]
  },
  {
   "cell_type": "code",
   "execution_count": 41,
   "id": "51999f20-c826-467a-a4a1-fc6baca5fe17",
   "metadata": {},
   "outputs": [],
   "source": [
    "# merge cleaned data sets\n",
    "merged_data = pd.merge(cleaned_aqi_df, cleaned_asthma_df, \n",
    "                      on=['county', 'year'], \n",
    "                      how='inner')"
   ]
  },
  {
   "cell_type": "code",
   "execution_count": 52,
   "id": "9d690490-f340-4f62-8391-4fc798c96619",
   "metadata": {},
   "outputs": [
    {
     "name": "stdout",
     "output_type": "stream",
     "text": [
      "Final dataset: 265 rows, 19 columns\n",
      "Counties covered: 53\n",
      "Years covered:  2017-2021\n"
     ]
    }
   ],
   "source": [
    "print(f\"Final dataset: {len(merged_data)} rows, {len(merged_data.columns)} columns\")\n",
    "print(f\"Counties covered: {merged_data['county'].nunique()}\")\n",
    "merged_data_timeframe = str(merged_data['year'].min()) + \"-\" + str(merged_data['year'].max())\n",
    "print(f\"Years covered: \", merged_data_timeframe)"
   ]
  },
  {
   "cell_type": "code",
   "execution_count": 54,
   "id": "2ada6c84-24b8-4f4a-b21e-c04269e307e5",
   "metadata": {},
   "outputs": [],
   "source": [
    "merged_data.to_csv('processed_data/merged_data_' + merged_data_timeframe + '.csv')"
   ]
  },
  {
   "cell_type": "code",
   "execution_count": null,
   "id": "babd0a3b-52cf-4c31-b2d9-72cf50f08d45",
   "metadata": {},
   "outputs": [],
   "source": []
  }
 ],
 "metadata": {
  "kernelspec": {
   "display_name": "Python 3 (ipykernel)",
   "language": "python",
   "name": "python3"
  },
  "language_info": {
   "codemirror_mode": {
    "name": "ipython",
    "version": 3
   },
   "file_extension": ".py",
   "mimetype": "text/x-python",
   "name": "python",
   "nbconvert_exporter": "python",
   "pygments_lexer": "ipython3",
   "version": "3.9.23"
  }
 },
 "nbformat": 4,
 "nbformat_minor": 5
}
