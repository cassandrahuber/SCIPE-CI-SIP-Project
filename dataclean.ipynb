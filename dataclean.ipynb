{
 "cells": [
  {
   "cell_type": "code",
   "execution_count": 6,
   "id": "0495c7fe-1937-4966-8a9d-13629d93ab38",
   "metadata": {},
   "outputs": [],
   "source": [
    "import pandas as pd"
   ]
  },
  {
   "cell_type": "code",
   "execution_count": 7,
   "id": "2a04212e-4b16-433d-94a1-5afa6ae59440",
   "metadata": {},
   "outputs": [],
   "source": [
    "aqi_df = []\n",
    "aqi_files_start_year = 2017\n",
    "\n",
    "for i in range(5) :\n",
    "    # Load the data into a dataframe\n",
    "    df = pd.read_csv('raw_data/annual_aqi_by_county_' + str(i + aqi_files_start_year) + '.csv')\n",
    "    #print(df.info())\n",
    "\n",
    "    df.columns = df.columns.str.strip().str.lower().str.replace(' ', '_')\n",
    "    df = df[df['state'] == 'California'].drop(columns=['state'])\n",
    "    \n",
    "    aqi_df.append(df)"
   ]
  },
  {
   "cell_type": "code",
   "execution_count": null,
   "id": "9acda7cc-ee85-49ce-8b0d-4d992d9f9a5b",
   "metadata": {},
   "outputs": [],
   "source": [
    "# combine all aqi years dataframes into one\n",
    "combined_aqi_df = pd.concat(aqi_df, ignore_index=True)\n",
    "#print(combined_aqi_df)"
   ]
  },
  {
   "cell_type": "code",
   "execution_count": null,
   "id": "aceb955c-4d89-4c99-9b5f-43ba20c668dd",
   "metadata": {},
   "outputs": [],
   "source": [
    "combined_aqi_df.to_csv('processed_data/combined_aqi_data.csv')"
   ]
  },
  {
   "cell_type": "code",
   "execution_count": null,
   "id": "39d3ab93-0847-4710-84d4-6162d392cfc4",
   "metadata": {},
   "outputs": [],
   "source": []
  },
  {
   "cell_type": "code",
   "execution_count": null,
   "id": "138f54d8-1929-466d-b45c-4c11942118a1",
   "metadata": {},
   "outputs": [],
   "source": []
  },
  {
   "cell_type": "code",
   "execution_count": 10,
   "id": "07545057-cdf8-4bde-b22c-793f29f7bbd6",
   "metadata": {},
   "outputs": [],
   "source": [
    "# clean asthma emergency department visits data\n",
    "\n",
    "asthma_df = []\n",
    "asthma_files_start_year = 2017\n",
    "\n",
    "for i in range(5) :\n",
    "    # load the data into a dataframe\n",
    "    df = pd.read_excel('raw_data/Asthma_Emergency_' + str(i + asthma_files_start_year) + '.xlsx')\n",
    "    #print(df.info())\n",
    "\n",
    "    # clean up the dataframe\n",
    "    df.columns = df.columns.str.strip().str.lower().str.replace(' ', '_')\n",
    "    df.rename(columns={'counties': 'county'}, inplace=True)\n",
    "    df = df[df['county'] != 'California'] # remove rows with 'California' in county name\n",
    "    df = df.drop(columns=['lower_95%_limit', 'upper_95%_limit'])  # optional, but cleaner\n",
    " \n",
    "    # add year column and reorder columns to have year after county (like in aqi_df)\n",
    "    df['year'] = i + asthma_files_start_year\n",
    "    columns_order = ['county', 'year'] + [col for col in df.columns if col not in ['county', 'year']]\n",
    "    df = df[columns_order]\n",
    "\n",
    "    asthma_df.append(df)\n"
   ]
  },
  {
   "cell_type": "code",
   "execution_count": 11,
   "id": "e19d37bf-951b-4ef0-8af4-1b714140f1e7",
   "metadata": {},
   "outputs": [
    {
     "name": "stdout",
     "output_type": "stream",
     "text": [
      "        county  year  age-adjusted_rate_per_10,000  number_of_cases\n",
      "0      Alameda  2017                         56.04           8916.0\n",
      "1       Alpine  2017                           NaN              NaN\n",
      "2       Amador  2017                         56.02            175.0\n",
      "3        Butte  2017                         45.29            935.0\n",
      "4    Calaveras  2017                         54.51            197.0\n",
      "..         ...   ...                           ...              ...\n",
      "285     Tulare  2021                         26.95           1280.0\n",
      "286   Tuolumne  2021                         23.59            104.0\n",
      "287    Ventura  2021                         16.81           1312.0\n",
      "288       Yolo  2021                         22.87            436.0\n",
      "289       Yuba  2021                         29.34            235.0\n",
      "\n",
      "[290 rows x 4 columns]\n"
     ]
    }
   ],
   "source": [
    "# combine all asthma years dataframes into one\n",
    "combined_asthma_df = pd.concat(asthma_df, ignore_index=True)\n",
    "#print(combined_asthma_df)"
   ]
  },
  {
   "cell_type": "code",
   "execution_count": 12,
   "id": "577bb07d-9f1f-45c7-84a5-b2af201a3d58",
   "metadata": {},
   "outputs": [],
   "source": [
    "combined_asthma_df.to_csv('processed_data/combined_asthma_data.csv')"
   ]
  },
  {
   "cell_type": "code",
   "execution_count": 22,
   "id": "27aec2c2-e50f-4812-b17f-95894f1258a5",
   "metadata": {},
   "outputs": [
    {
     "name": "stdout",
     "output_type": "stream",
     "text": [
      "<class 'pandas.core.frame.DataFrame'>\n",
      "RangeIndex: 290 entries, 0 to 289\n",
      "Data columns (total 4 columns):\n",
      " #   Column                        Non-Null Count  Dtype  \n",
      "---  ------                        --------------  -----  \n",
      " 0   county                        290 non-null    object \n",
      " 1   year                          290 non-null    int64  \n",
      " 2   age-adjusted_rate_per_10,000  281 non-null    float64\n",
      " 3   number_of_cases               281 non-null    float64\n",
      "dtypes: float64(2), int64(1), object(1)\n",
      "memory usage: 9.2+ KB\n",
      "None\n"
     ]
    }
   ],
   "source": [
    "print(combined_asthma_df.info())"
   ]
  },
  {
   "cell_type": "code",
   "execution_count": null,
   "id": "f1c43b73-fe79-441a-acc9-129d1972df3a",
   "metadata": {},
   "outputs": [],
   "source": []
  },
  {
   "cell_type": "code",
   "execution_count": 20,
   "id": "c54f514c-bf0e-4022-b3b9-dbeae6123111",
   "metadata": {},
   "outputs": [
    {
     "name": "stdout",
     "output_type": "stream",
     "text": [
      "58 53\n"
     ]
    }
   ],
   "source": [
    "# find counties missing\n",
    "\n",
    "# count number of years county appears in aqi data\n",
    "year_counts = combined_aqi_df.groupby('county')['year'].nunique()\n",
    "#print(year_counts.sort_values())\n",
    "\n",
    "#figure out which counties missing in aqi data\n",
    "all_counties = combined_asthma_df['county'].unique()\n",
    "aqi_counties = combined_aqi_df['county'].unique()\n",
    "#print(len(all_counties), len(aqi_counties))"
   ]
  },
  {
   "cell_type": "code",
   "execution_count": 21,
   "id": "c07239ca-b4d8-439c-988d-27f94c8e4e10",
   "metadata": {
    "scrolled": true
   },
   "outputs": [
    {
     "name": "stdout",
     "output_type": "stream",
     "text": [
      "Counties missing in AQI data: {'Alpine', 'Sierra', 'Modoc', 'Yuba', 'Lassen'}\n"
     ]
    }
   ],
   "source": [
    "missing_counties = set(all_counties) - set(aqi_counties)\n",
    "print(\"Counties missing in AQI data:\", missing_counties)"
   ]
  },
  {
   "cell_type": "code",
   "execution_count": 26,
   "id": "b438d762-89e2-4f0e-8bb8-01db797ed80d",
   "metadata": {},
   "outputs": [
    {
     "ename": "AttributeError",
     "evalue": "'str' object has no attribute 'number_of_cases'",
     "output_type": "error",
     "traceback": [
      "\u001b[0;31m---------------------------------------------------------------------------\u001b[0m",
      "\u001b[0;31mAttributeError\u001b[0m                            Traceback (most recent call last)",
      "Cell \u001b[0;32mIn[26], line 2\u001b[0m\n\u001b[1;32m      1\u001b[0m \u001b[38;5;28;01mfor\u001b[39;00m row \u001b[38;5;129;01min\u001b[39;00m combined_asthma_df:\n\u001b[0;32m----> 2\u001b[0m     \u001b[38;5;28;01mif\u001b[39;00m \u001b[38;5;124m'\u001b[39m\u001b[38;5;124mnull\u001b[39m\u001b[38;5;124m'\u001b[39m \u001b[38;5;129;01min\u001b[39;00m \u001b[43mrow\u001b[49m\u001b[38;5;241;43m.\u001b[39;49m\u001b[43mnumber_of_cases\u001b[49m :\n\u001b[1;32m      3\u001b[0m         \u001b[38;5;28mprint\u001b[39m(\u001b[38;5;124mf\u001b[39m\u001b[38;5;124m\"\u001b[39m\u001b[38;5;124mCounty \u001b[39m\u001b[38;5;132;01m{\u001b[39;00mrow\u001b[38;5;241m.\u001b[39mcounty\u001b[38;5;132;01m}\u001b[39;00m\u001b[38;5;124m is missing in AQI data for year \u001b[39m\u001b[38;5;132;01m{\u001b[39;00mrow\u001b[38;5;241m.\u001b[39myear\u001b[38;5;132;01m}\u001b[39;00m\u001b[38;5;124m\"\u001b[39m)\n",
      "\u001b[0;31mAttributeError\u001b[0m: 'str' object has no attribute 'number_of_cases'"
     ]
    }
   ],
   "source": [
    "for row in combined_asthma_df:\n",
    "    if 'null' in row.number_of_cases :\n",
    "        print(f\"County {row.county} is missing in AQI data for year {row.year}\")\n",
    "    "
   ]
  },
  {
   "cell_type": "code",
   "execution_count": 39,
   "id": "888a6322-e115-4c98-a827-9966c35646bf",
   "metadata": {},
   "outputs": [],
   "source": [
    "for row in combined_asthma_df.itertuples():\n",
    "    if 'NaN' in row:\n",
    "        print(f\"Missing data for county {row.county} in year {row.year}\")"
   ]
  },
  {
   "cell_type": "code",
   "execution_count": 65,
   "id": "5a8b43b8-d514-4148-b8c0-3a2bcbd8923d",
   "metadata": {},
   "outputs": [
    {
     "name": "stdout",
     "output_type": "stream",
     "text": [
      "9\n"
     ]
    }
   ],
   "source": [
    "missing_counties_asthma = combined_asthma_df['number_of_cases'].isnull().sum()\n",
    "print(missing_counties_asthma)"
   ]
  },
  {
   "cell_type": "code",
   "execution_count": 59,
   "id": "e4765459-e053-461a-8e0c-2d61a484088e",
   "metadata": {},
   "outputs": [
    {
     "ename": "AttributeError",
     "evalue": "'str' object has no attribute 'isnull'",
     "output_type": "error",
     "traceback": [
      "\u001b[0;31m---------------------------------------------------------------------------\u001b[0m",
      "\u001b[0;31mAttributeError\u001b[0m                            Traceback (most recent call last)",
      "Cell \u001b[0;32mIn[59], line 2\u001b[0m\n\u001b[1;32m      1\u001b[0m \u001b[38;5;28;01mfor\u001b[39;00m index \u001b[38;5;129;01min\u001b[39;00m combined_aqi_df\u001b[38;5;241m.\u001b[39miloc[[\u001b[38;5;241m-\u001b[39m\u001b[38;5;241m1\u001b[39m]] :\n\u001b[0;32m----> 2\u001b[0m     \u001b[38;5;28;01mif\u001b[39;00m \u001b[43mindex\u001b[49m\u001b[38;5;241;43m.\u001b[39;49m\u001b[43misnull\u001b[49m()\u001b[38;5;241m.\u001b[39many():\n\u001b[1;32m      3\u001b[0m         \u001b[38;5;28mprint\u001b[39m(index\u001b[38;5;241m.\u001b[39mcounty \u001b[38;5;241m+\u001b[39m \u001b[38;5;124m'\u001b[39m\u001b[38;5;124mis null\u001b[39m\u001b[38;5;124m'\u001b[39m)\n",
      "\u001b[0;31mAttributeError\u001b[0m: 'str' object has no attribute 'isnull'"
     ]
    }
   ],
   "source": [
    "for index in combined_aqi_df.iloc[[-1]] :\n",
    "    if index.isnull().any():\n",
    "        print(index.county + 'is null')"
   ]
  },
  {
   "cell_type": "code",
   "execution_count": 71,
   "id": "88b5a741-4c73-4f72-a148-cc46040b6922",
   "metadata": {},
   "outputs": [
    {
     "ename": "TypeError",
     "evalue": "tuple indices must be integers or slices, not str",
     "output_type": "error",
     "traceback": [
      "\u001b[0;31m---------------------------------------------------------------------------\u001b[0m",
      "\u001b[0;31mTypeError\u001b[0m                                 Traceback (most recent call last)",
      "Cell \u001b[0;32mIn[71], line 2\u001b[0m\n\u001b[1;32m      1\u001b[0m \u001b[38;5;28;01mfor\u001b[39;00m index \u001b[38;5;129;01min\u001b[39;00m combined_aqi_df\u001b[38;5;241m.\u001b[39miterrows() :\n\u001b[0;32m----> 2\u001b[0m     \u001b[38;5;28;01mif\u001b[39;00m \u001b[43mindex\u001b[49m\u001b[43m[\u001b[49m\u001b[38;5;124;43m'\u001b[39;49m\u001b[38;5;124;43mnumber_of_cases\u001b[39;49m\u001b[38;5;124;43m'\u001b[39;49m\u001b[43m]\u001b[49m\u001b[38;5;241m.\u001b[39mvalue\u001b[38;5;241m.\u001b[39misnull()\u001b[38;5;241m.\u001b[39many(axis\u001b[38;5;241m=\u001b[39m\u001b[38;5;241m1\u001b[39m):\n\u001b[1;32m      3\u001b[0m         \u001b[38;5;28mprint\u001b[39m(index\u001b[38;5;241m.\u001b[39mcounty \u001b[38;5;241m+\u001b[39m \u001b[38;5;124m'\u001b[39m\u001b[38;5;124mis null\u001b[39m\u001b[38;5;124m'\u001b[39m)\n",
      "\u001b[0;31mTypeError\u001b[0m: tuple indices must be integers or slices, not str"
     ]
    }
   ],
   "source": [
    "for index in combined_aqi_df.iterrows() :\n",
    "    if index['number_of_cases'].value.isnull().any(axis=1):\n",
    "        print(index.county + 'is null')"
   ]
  },
  {
   "cell_type": "code",
   "execution_count": 66,
   "id": "a0c8fcec-bacd-4acf-923d-979c2e44b925",
   "metadata": {},
   "outputs": [
    {
     "name": "stdout",
     "output_type": "stream",
     "text": [
      "Counties with null values:\n",
      "['Alpine' 'Sierra']\n",
      "Rows with null values:\n",
      "     county  year  age-adjusted_rate_per_10,000  number_of_cases\n",
      "1    Alpine  2017                           NaN              NaN\n",
      "45   Sierra  2017                           NaN              NaN\n",
      "59   Alpine  2018                           NaN              NaN\n",
      "117  Alpine  2019                           NaN              NaN\n",
      "161  Sierra  2019                           NaN              NaN\n",
      "175  Alpine  2020                           NaN              NaN\n",
      "219  Sierra  2020                           NaN              NaN\n",
      "233  Alpine  2021                           NaN              NaN\n",
      "277  Sierra  2021                           NaN              NaN\n"
     ]
    }
   ],
   "source": [
    "# find rows with null values in ashtma data\n",
    "missing_counties_asthma = combined_asthma_df[combined_asthma_df.isnull().any(axis=1)]\n",
    "\n",
    "# print counties with null values\n",
    "print(missing_counties_asthma['county'].unique())\n",
    "\n",
    "# print the entire rows with null values\n",
    "print(missing_counties_asthma)"
   ]
  },
  {
   "cell_type": "code",
   "execution_count": 67,
   "id": "76b9a95c-2a96-48b3-b825-4f84e8708af4",
   "metadata": {},
   "outputs": [
    {
     "name": "stdout",
     "output_type": "stream",
     "text": [
      "<class 'pandas.core.frame.DataFrame'>\n",
      "Index: 9 entries, 1 to 277\n",
      "Data columns (total 4 columns):\n",
      " #   Column                        Non-Null Count  Dtype  \n",
      "---  ------                        --------------  -----  \n",
      " 0   county                        9 non-null      object \n",
      " 1   year                          9 non-null      int64  \n",
      " 2   age-adjusted_rate_per_10,000  0 non-null      float64\n",
      " 3   number_of_cases               0 non-null      float64\n",
      "dtypes: float64(2), int64(1), object(1)\n",
      "memory usage: 360.0+ bytes\n"
     ]
    }
   ],
   "source": []
  },
  {
   "cell_type": "code",
   "execution_count": 72,
   "id": "a0d7c2a9-1c10-4c94-bb39-9a8827b9c47a",
   "metadata": {},
   "outputs": [
    {
     "name": "stdout",
     "output_type": "stream",
     "text": [
      "county\n",
      "Alpine    5\n",
      "Lassen    5\n",
      "Modoc     5\n",
      "Sierra    5\n",
      "Yuba      5\n",
      "dtype: int64\n"
     ]
    }
   ],
   "source": [
    "import itertools\n",
    "\n",
    "years = sorted(combined_aqi_df['year'].unique())\n",
    "skeleton = pd.DataFrame(itertools.product(all_counties, years),\n",
    "                        columns=['county','year'])\n",
    "\n",
    "merged = skeleton.merge(combined_aqi_df, on=['county','year'], how='left')\n",
    "\n",
    "# Rows where median_aqi is missing:\n",
    "gaps = merged[merged['median_aqi'].isna()]\n",
    "\n",
    "# Count gaps per county\n",
    "gap_counts = gaps.groupby('county').size().sort_values(ascending=False)\n",
    "print(gap_counts)"
   ]
  },
  {
   "cell_type": "code",
   "execution_count": null,
   "id": "7a1225c2-97f6-4013-939f-a11775bd3cb5",
   "metadata": {},
   "outputs": [],
   "source": []
  }
 ],
 "metadata": {
  "kernelspec": {
   "display_name": "Python 3 (ipykernel)",
   "language": "python",
   "name": "python3"
  },
  "language_info": {
   "codemirror_mode": {
    "name": "ipython",
    "version": 3
   },
   "file_extension": ".py",
   "mimetype": "text/x-python",
   "name": "python",
   "nbconvert_exporter": "python",
   "pygments_lexer": "ipython3",
   "version": "3.9.23"
  }
 },
 "nbformat": 4,
 "nbformat_minor": 5
}
