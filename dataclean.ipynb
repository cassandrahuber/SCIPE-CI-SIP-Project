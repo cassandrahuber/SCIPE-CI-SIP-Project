{
 "cells": [
  {
   "cell_type": "code",
   "execution_count": 2,
   "id": "0495c7fe-1937-4966-8a9d-13629d93ab38",
   "metadata": {},
   "outputs": [],
   "source": [
    "import pandas as pd"
   ]
  },
  {
   "cell_type": "code",
   "execution_count": null,
   "id": "2ab5201d-6917-4716-a7cd-cfa5a06021df",
   "metadata": {},
   "outputs": [],
   "source": [
    "df = pd.read_csv('raw_data/annual_aqi_by_county_2017.csv')\n",
    "df = df[df['State'] == 'California'].drop(columns=['State'])\n",
    "df.set_index('County', inplace=True)\n",
    "print(df)"
   ]
  },
  {
   "cell_type": "code",
   "execution_count": null,
   "id": "6560a00b-c829-497c-9650-2b147aef84e7",
   "metadata": {},
   "outputs": [],
   "source": [
    "print(df.info())\n",
    "print(df.describe())"
   ]
  },
  {
   "cell_type": "code",
   "execution_count": null,
   "id": "c356e26a-259b-4803-ab75-2fbb0167d00f",
   "metadata": {},
   "outputs": [],
   "source": []
  },
  {
   "cell_type": "code",
   "execution_count": 22,
   "id": "2a04212e-4b16-433d-94a1-5afa6ae59440",
   "metadata": {},
   "outputs": [
    {
     "name": "stdout",
     "output_type": "stream",
     "text": [
      "['County', 'Year', 'Days with AQI', 'Good Days', 'Moderate Days', 'Unhealthy for Sensitive Groups Days', 'Unhealthy Days', 'Very Unhealthy Days', 'Hazardous Days', 'Max AQI', '90th Percentile AQI', 'Median AQI', 'Days CO', 'Days NO2', 'Days Ozone', 'Days PM2.5', 'Days PM10']\n",
      "['County', 'Year', 'Days with AQI', 'Good Days', 'Moderate Days', 'Unhealthy for Sensitive Groups Days', 'Unhealthy Days', 'Very Unhealthy Days', 'Hazardous Days', 'Max AQI', '90th Percentile AQI', 'Median AQI', 'Days CO', 'Days NO2', 'Days Ozone', 'Days PM2.5', 'Days PM10']\n",
      "['County', 'Year', 'Days with AQI', 'Good Days', 'Moderate Days', 'Unhealthy for Sensitive Groups Days', 'Unhealthy Days', 'Very Unhealthy Days', 'Hazardous Days', 'Max AQI', '90th Percentile AQI', 'Median AQI', 'Days CO', 'Days NO2', 'Days Ozone', 'Days PM2.5', 'Days PM10']\n",
      "['County', 'Year', 'Days with AQI', 'Good Days', 'Moderate Days', 'Unhealthy for Sensitive Groups Days', 'Unhealthy Days', 'Very Unhealthy Days', 'Hazardous Days', 'Max AQI', '90th Percentile AQI', 'Median AQI', 'Days CO', 'Days NO2', 'Days Ozone', 'Days PM2.5', 'Days PM10']\n",
      "['County', 'Year', 'Days with AQI', 'Good Days', 'Moderate Days', 'Unhealthy for Sensitive Groups Days', 'Unhealthy Days', 'Very Unhealthy Days', 'Hazardous Days', 'Max AQI', '90th Percentile AQI', 'Median AQI', 'Days CO', 'Days NO2', 'Days Ozone', 'Days PM2.5', 'Days PM10']\n"
     ]
    }
   ],
   "source": [
    "aqi_df = []\n",
    "aqi_files_start_year = 2017\n",
    "\n",
    "for i in range(5) :\n",
    "    # Load the data into a DataFrame\n",
    "    df = pd.read_csv('raw_data/annual_aqi_by_county_' + str(i + aqi_files_start_year) + '.csv')\n",
    "    df = df[df['State'] == 'California'].drop(columns=['State'])\n",
    "    ##print(df.info())\n",
    "    print(df.row.tolist())\n",
    "    ##df.set_index('County', inplace=True)\n",
    "    aqi_df.append(df)"
   ]
  },
  {
   "cell_type": "code",
   "execution_count": 19,
   "id": "17896f02-9843-43b8-abed-7c38bc3ef38b",
   "metadata": {},
   "outputs": [
    {
     "name": "stdout",
     "output_type": "stream",
     "text": [
      "        County  Year  Days with AQI  Good Days  Moderate Days  \\\n",
      "0      Alameda  2017            365        106            245   \n",
      "1       Amador  2017            362        291             67   \n",
      "2        Butte  2017            365        100            241   \n",
      "3    Calaveras  2017            354        118            222   \n",
      "4       Colusa  2017            365        237            120   \n",
      "..         ...   ...            ...        ...            ...   \n",
      "260    Trinity  2021            328        201             81   \n",
      "261     Tulare  2021            365         49            182   \n",
      "262   Tuolumne  2021            360        295             63   \n",
      "263    Ventura  2021            365        157            198   \n",
      "264       Yolo  2021            365        242            117   \n",
      "\n",
      "     Unhealthy for Sensitive Groups Days  Unhealthy Days  Very Unhealthy Days  \\\n",
      "0                                      9               4                    1   \n",
      "1                                      4               0                    0   \n",
      "2                                     23               1                    0   \n",
      "3                                     12               2                    0   \n",
      "4                                      7               0                    1   \n",
      "..                                   ...             ...                  ...   \n",
      "260                                    4              19                    9   \n",
      "261                                   93              38                    2   \n",
      "262                                    2               0                    0   \n",
      "263                                   10               0                    0   \n",
      "264                                    4               2                    0   \n",
      "\n",
      "     Hazardous Days  Max AQI  90th Percentile AQI  Median AQI  Days CO  \\\n",
      "0                 0      205                   78          56        0   \n",
      "1                 0      136                   64          38        0   \n",
      "2                 0      155                   95          59        0   \n",
      "3                 0      172                   87          57        0   \n",
      "4                 0      213                   67          43        0   \n",
      "..              ...      ...                  ...         ...      ...   \n",
      "260              14     1217                  168          38        0   \n",
      "261               1      961                  154          81        0   \n",
      "262               0      136                   61          41        0   \n",
      "263               0      122                   80          53        0   \n",
      "264               0      159                   68          42        0   \n",
      "\n",
      "     Days NO2  Days Ozone  Days PM2.5  Days PM10  \n",
      "0           6          51         308          0  \n",
      "1           0         362           0          0  \n",
      "2           0         150         213          2  \n",
      "3           0         198         155          1  \n",
      "4           0         168         179         18  \n",
      "..        ...         ...         ...        ...  \n",
      "260         0           0         328          0  \n",
      "261         0         173         187          5  \n",
      "262         0         360           0          0  \n",
      "263         0         214         140         11  \n",
      "264         0         215         149          1  \n",
      "\n",
      "[265 rows x 17 columns]\n"
     ]
    }
   ],
   "source": [
    "# combine all aqi years dataframes into one\n",
    "combined_aqi_df = pd.concat(aqi_df, ignore_index=True)\n",
    "print(combined_aqi_df)"
   ]
  },
  {
   "cell_type": "code",
   "execution_count": 20,
   "id": "aceb955c-4d89-4c99-9b5f-43ba20c668dd",
   "metadata": {},
   "outputs": [],
   "source": [
    "combined_aqi_df.to_csv('processed_data/combined_aqi_data.csv')"
   ]
  },
  {
   "cell_type": "code",
   "execution_count": null,
   "id": "07545057-cdf8-4bde-b22c-793f29f7bbd6",
   "metadata": {},
   "outputs": [],
   "source": []
  }
 ],
 "metadata": {
  "kernelspec": {
   "display_name": "Python 3 (ipykernel)",
   "language": "python",
   "name": "python3"
  },
  "language_info": {
   "codemirror_mode": {
    "name": "ipython",
    "version": 3
   },
   "file_extension": ".py",
   "mimetype": "text/x-python",
   "name": "python",
   "nbconvert_exporter": "python",
   "pygments_lexer": "ipython3",
   "version": "3.9.23"
  }
 },
 "nbformat": 4,
 "nbformat_minor": 5
}
