{
 "cells": [
  {
   "cell_type": "code",
   "execution_count": null,
   "id": "0495c7fe-1937-4966-8a9d-13629d93ab38",
   "metadata": {},
   "outputs": [],
   "source": [
    "import pandas as pd"
   ]
  },
  {
   "cell_type": "code",
   "execution_count": null,
   "id": "2ab5201d-6917-4716-a7cd-cfa5a06021df",
   "metadata": {},
   "outputs": [],
   "source": [
    "df = pd.read_csv('raw_data/annual_aqi_by_county_2017.csv')\n",
    "df = df[df['State'] == 'California'].drop(columns=['State'])\n",
    "df.set_index('County', inplace=True)\n",
    "print(df)"
   ]
  },
  {
   "cell_type": "code",
   "execution_count": null,
   "id": "6560a00b-c829-497c-9650-2b147aef84e7",
   "metadata": {},
   "outputs": [],
   "source": [
    "print(df.info())\n",
    "print(df.describe())"
   ]
  },
  {
   "cell_type": "code",
   "execution_count": null,
   "id": "c356e26a-259b-4803-ab75-2fbb0167d00f",
   "metadata": {},
   "outputs": [],
   "source": []
  },
  {
   "cell_type": "code",
   "execution_count": null,
   "id": "2a04212e-4b16-433d-94a1-5afa6ae59440",
   "metadata": {},
   "outputs": [],
   "source": [
    "aqi_files_start_year = 2017\n",
    "\n",
    "for i in range(5) :\n",
    "    # Load the data into a DataFrame\n",
    "    df = pd.read_csv('raw_data/annual_aqi_by_county_' + str(i + aqi_files_start_year) + '.csv',\n",
    "                     index_col=0,\n",
    "                     parse_dates=True,\n",
    "                     encoding='utf-8',\n",
    "                     low_memory=False)\n",
    "    df = df[df['State'] == 'California'].drop(columns=['State'])\n",
    "    df.set_index('County', inplace=True)\n",
    "    aqi_df = aqi_df"
   ]
  }
 ],
 "metadata": {
  "kernelspec": {
   "display_name": "Python 3 (ipykernel)",
   "language": "python",
   "name": "python3"
  },
  "language_info": {
   "codemirror_mode": {
    "name": "ipython",
    "version": 3
   },
   "file_extension": ".py",
   "mimetype": "text/x-python",
   "name": "python",
   "nbconvert_exporter": "python",
   "pygments_lexer": "ipython3",
   "version": "3.9.23"
  }
 },
 "nbformat": 4,
 "nbformat_minor": 5
}
