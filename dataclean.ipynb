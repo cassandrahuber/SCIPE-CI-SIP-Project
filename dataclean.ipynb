{
 "cells": [
  {
   "cell_type": "code",
   "execution_count": 6,
   "id": "0495c7fe-1937-4966-8a9d-13629d93ab38",
   "metadata": {},
   "outputs": [],
   "source": [
    "import pandas as pd"
   ]
  },
  {
   "cell_type": "code",
   "execution_count": 7,
   "id": "2a04212e-4b16-433d-94a1-5afa6ae59440",
   "metadata": {},
   "outputs": [],
   "source": [
    "aqi_df = []\n",
    "aqi_files_start_year = 2017\n",
    "\n",
    "for i in range(5) :\n",
    "    # Load the data into a dataframe\n",
    "    df = pd.read_csv('raw_data/annual_aqi_by_county_' + str(i + aqi_files_start_year) + '.csv')\n",
    "    #print(df.info())\n",
    "\n",
    "    df.columns = df.columns.str.strip().str.lower().str.replace(' ', '_')\n",
    "    df = df[df['state'] == 'California'].drop(columns=['state'])\n",
    "    \n",
    "    aqi_df.append(df)"
   ]
  },
  {
   "cell_type": "code",
   "execution_count": null,
   "id": "9acda7cc-ee85-49ce-8b0d-4d992d9f9a5b",
   "metadata": {},
   "outputs": [],
   "source": [
    "# combine all aqi years dataframes into one\n",
    "combined_aqi_df = pd.concat(aqi_df, ignore_index=True)\n",
    "#print(combined_aqi_df)"
   ]
  },
  {
   "cell_type": "code",
   "execution_count": null,
   "id": "aceb955c-4d89-4c99-9b5f-43ba20c668dd",
   "metadata": {},
   "outputs": [],
   "source": [
    "combined_aqi_df.to_csv('processed_data/combined_aqi_data.csv')"
   ]
  },
  {
   "cell_type": "code",
   "execution_count": null,
   "id": "39d3ab93-0847-4710-84d4-6162d392cfc4",
   "metadata": {},
   "outputs": [],
   "source": []
  },
  {
   "cell_type": "code",
   "execution_count": null,
   "id": "138f54d8-1929-466d-b45c-4c11942118a1",
   "metadata": {},
   "outputs": [],
   "source": []
  },
  {
   "cell_type": "code",
   "execution_count": 10,
   "id": "07545057-cdf8-4bde-b22c-793f29f7bbd6",
   "metadata": {},
   "outputs": [],
   "source": [
    "# clean asthma emergency department visits data\n",
    "\n",
    "asthma_df = []\n",
    "asthma_files_start_year = 2017\n",
    "\n",
    "for i in range(5) :\n",
    "    # load the data into a dataframe\n",
    "    df = pd.read_excel('raw_data/Asthma_Emergency_' + str(i + asthma_files_start_year) + '.xlsx')\n",
    "    #print(df.info())\n",
    "\n",
    "    # clean up the dataframe\n",
    "    df.columns = df.columns.str.strip().str.lower().str.replace(' ', '_')\n",
    "    df.rename(columns={'counties': 'county'}, inplace=True)\n",
    "    df = df[df['county'] != 'California'] # remove rows with 'California' in county name\n",
    "    df = df.drop(columns=['lower_95%_limit', 'upper_95%_limit'])  # optional, but cleaner\n",
    " \n",
    "    # add year column and reorder columns to have year after county (like in aqi_df)\n",
    "    df['year'] = i + asthma_files_start_year\n",
    "    columns_order = ['county', 'year'] + [col for col in df.columns if col not in ['county', 'year']]\n",
    "    df = df[columns_order]\n",
    "\n",
    "    asthma_df.append(df)\n"
   ]
  },
  {
   "cell_type": "code",
   "execution_count": 11,
   "id": "e19d37bf-951b-4ef0-8af4-1b714140f1e7",
   "metadata": {},
   "outputs": [
    {
     "name": "stdout",
     "output_type": "stream",
     "text": [
      "        county  year  age-adjusted_rate_per_10,000  number_of_cases\n",
      "0      Alameda  2017                         56.04           8916.0\n",
      "1       Alpine  2017                           NaN              NaN\n",
      "2       Amador  2017                         56.02            175.0\n",
      "3        Butte  2017                         45.29            935.0\n",
      "4    Calaveras  2017                         54.51            197.0\n",
      "..         ...   ...                           ...              ...\n",
      "285     Tulare  2021                         26.95           1280.0\n",
      "286   Tuolumne  2021                         23.59            104.0\n",
      "287    Ventura  2021                         16.81           1312.0\n",
      "288       Yolo  2021                         22.87            436.0\n",
      "289       Yuba  2021                         29.34            235.0\n",
      "\n",
      "[290 rows x 4 columns]\n"
     ]
    }
   ],
   "source": [
    "# combine all asthma years dataframes into one\n",
    "combined_asthma_df = pd.concat(asthma_df, ignore_index=True)\n",
    "#print(combined_asthma_df)"
   ]
  },
  {
   "cell_type": "code",
   "execution_count": 12,
   "id": "577bb07d-9f1f-45c7-84a5-b2af201a3d58",
   "metadata": {},
   "outputs": [],
   "source": [
    "combined_asthma_df.to_csv('processed_data/combined_asthma_data.csv')"
   ]
  },
  {
   "cell_type": "code",
   "execution_count": null,
   "id": "27aec2c2-e50f-4812-b17f-95894f1258a5",
   "metadata": {},
   "outputs": [],
   "source": []
  },
  {
   "cell_type": "code",
   "execution_count": null,
   "id": "f1c43b73-fe79-441a-acc9-129d1972df3a",
   "metadata": {},
   "outputs": [],
   "source": []
  },
  {
   "cell_type": "code",
   "execution_count": null,
   "id": "c54f514c-bf0e-4022-b3b9-dbeae6123111",
   "metadata": {},
   "outputs": [],
   "source": [
    "# how many distinct years each county appears  (check if all listed counties have data for all years)\n",
    "year_counts = combined_aqi_df.groupby('county')['year'].nunique()\n",
    "print(year_counts.sort_values())"
   ]
  }
 ],
 "metadata": {
  "kernelspec": {
   "display_name": "Python 3 (ipykernel)",
   "language": "python",
   "name": "python3"
  },
  "language_info": {
   "codemirror_mode": {
    "name": "ipython",
    "version": 3
   },
   "file_extension": ".py",
   "mimetype": "text/x-python",
   "name": "python",
   "nbconvert_exporter": "python",
   "pygments_lexer": "ipython3",
   "version": "3.9.23"
  }
 },
 "nbformat": 4,
 "nbformat_minor": 5
}
