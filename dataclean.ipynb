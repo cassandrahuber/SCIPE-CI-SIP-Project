{
 "cells": [
  {
   "cell_type": "code",
   "execution_count": 2,
   "id": "0495c7fe-1937-4966-8a9d-13629d93ab38",
   "metadata": {},
   "outputs": [],
   "source": [
    "import pandas as pd"
   ]
  },
  {
   "cell_type": "code",
   "execution_count": null,
   "id": "2ab5201d-6917-4716-a7cd-cfa5a06021df",
   "metadata": {},
   "outputs": [],
   "source": [
    "df = pd.read_csv('raw_data/annual_aqi_by_county_2017.csv')\n",
    "df = df[df['State'] == 'California'].drop(columns=['State'])\n",
    "df.set_index('County', inplace=True)\n",
    "print(df)"
   ]
  },
  {
   "cell_type": "code",
   "execution_count": null,
   "id": "6560a00b-c829-497c-9650-2b147aef84e7",
   "metadata": {},
   "outputs": [],
   "source": [
    "print(df.info())\n",
    "print(df.describe())"
   ]
  },
  {
   "cell_type": "code",
   "execution_count": null,
   "id": "c356e26a-259b-4803-ab75-2fbb0167d00f",
   "metadata": {},
   "outputs": [],
   "source": []
  },
  {
   "cell_type": "code",
   "execution_count": 5,
   "id": "2a04212e-4b16-433d-94a1-5afa6ae59440",
   "metadata": {},
   "outputs": [
    {
     "name": "stdout",
     "output_type": "stream",
     "text": [
      "           Year  Days with AQI  Good Days  Moderate Days  \\\n",
      "County                                                     \n",
      "Alameda    2017            365        106            245   \n",
      "Amador     2017            362        291             67   \n",
      "Butte      2017            365        100            241   \n",
      "Calaveras  2017            354        118            222   \n",
      "Colusa     2017            365        237            120   \n",
      "...         ...            ...        ...            ...   \n",
      "Trinity    2021            328        201             81   \n",
      "Tulare     2021            365         49            182   \n",
      "Tuolumne   2021            360        295             63   \n",
      "Ventura    2021            365        157            198   \n",
      "Yolo       2021            365        242            117   \n",
      "\n",
      "           Unhealthy for Sensitive Groups Days  Unhealthy Days  \\\n",
      "County                                                           \n",
      "Alameda                                      9               4   \n",
      "Amador                                       4               0   \n",
      "Butte                                       23               1   \n",
      "Calaveras                                   12               2   \n",
      "Colusa                                       7               0   \n",
      "...                                        ...             ...   \n",
      "Trinity                                      4              19   \n",
      "Tulare                                      93              38   \n",
      "Tuolumne                                     2               0   \n",
      "Ventura                                     10               0   \n",
      "Yolo                                         4               2   \n",
      "\n",
      "           Very Unhealthy Days  Hazardous Days  Max AQI  90th Percentile AQI  \\\n",
      "County                                                                         \n",
      "Alameda                      1               0      205                   78   \n",
      "Amador                       0               0      136                   64   \n",
      "Butte                        0               0      155                   95   \n",
      "Calaveras                    0               0      172                   87   \n",
      "Colusa                       1               0      213                   67   \n",
      "...                        ...             ...      ...                  ...   \n",
      "Trinity                      9              14     1217                  168   \n",
      "Tulare                       2               1      961                  154   \n",
      "Tuolumne                     0               0      136                   61   \n",
      "Ventura                      0               0      122                   80   \n",
      "Yolo                         0               0      159                   68   \n",
      "\n",
      "           Median AQI  Days CO  Days NO2  Days Ozone  Days PM2.5  Days PM10  \n",
      "County                                                                       \n",
      "Alameda            56        0         6          51         308          0  \n",
      "Amador             38        0         0         362           0          0  \n",
      "Butte              59        0         0         150         213          2  \n",
      "Calaveras          57        0         0         198         155          1  \n",
      "Colusa             43        0         0         168         179         18  \n",
      "...               ...      ...       ...         ...         ...        ...  \n",
      "Trinity            38        0         0           0         328          0  \n",
      "Tulare             81        0         0         173         187          5  \n",
      "Tuolumne           41        0         0         360           0          0  \n",
      "Ventura            53        0         0         214         140         11  \n",
      "Yolo               42        0         0         215         149          1  \n",
      "\n",
      "[265 rows x 16 columns]\n"
     ]
    }
   ],
   "source": [
    "aqi_df = []\n",
    "aqi_files_start_year = 2017\n",
    "\n",
    "for i in range(5) :\n",
    "    # Load the data into a DataFrame\n",
    "    df = pd.read_csv('raw_data/annual_aqi_by_county_' + str(i + aqi_files_start_year) + '.csv')\n",
    "    df = df[df['State'] == 'California'].drop(columns=['State'])\n",
    "    df.set_index('County', inplace=True)\n",
    "    aqi_df.append(df)\n",
    "\n",
    "# combine all aqi years dataframes into one\n",
    "aqi_df = pd.concat(aqi_df)\n",
    "print(aqi_df)"
   ]
  },
  {
   "cell_type": "code",
   "execution_count": null,
   "id": "aceb955c-4d89-4c99-9b5f-43ba20c668dd",
   "metadata": {},
   "outputs": [],
   "source": []
  }
 ],
 "metadata": {
  "kernelspec": {
   "display_name": "Python 3 (ipykernel)",
   "language": "python",
   "name": "python3"
  },
  "language_info": {
   "codemirror_mode": {
    "name": "ipython",
    "version": 3
   },
   "file_extension": ".py",
   "mimetype": "text/x-python",
   "name": "python",
   "nbconvert_exporter": "python",
   "pygments_lexer": "ipython3",
   "version": "3.9.23"
  }
 },
 "nbformat": 4,
 "nbformat_minor": 5
}
